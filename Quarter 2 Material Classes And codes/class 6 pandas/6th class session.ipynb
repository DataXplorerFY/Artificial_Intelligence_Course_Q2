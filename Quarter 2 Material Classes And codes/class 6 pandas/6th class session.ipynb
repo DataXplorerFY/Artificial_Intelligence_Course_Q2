{
 "cells": [
  {
   "cell_type": "markdown",
   "id": "28e63c4a",
   "metadata": {},
   "source": [
    "# Time Series"
   ]
  },
  {
   "cell_type": "code",
   "execution_count": 1,
   "id": "d749a922",
   "metadata": {},
   "outputs": [],
   "source": [
    "import pandas as pd"
   ]
  },
  {
   "cell_type": "code",
   "execution_count": 2,
   "id": "46ea5847",
   "metadata": {},
   "outputs": [],
   "source": [
    "import numpy as np"
   ]
  },
  {
   "cell_type": "code",
   "execution_count": 4,
   "id": "a0c1a615",
   "metadata": {},
   "outputs": [],
   "source": [
    "from datetime import datetime"
   ]
  },
  {
   "cell_type": "code",
   "execution_count": 5,
   "id": "a4da0e3f",
   "metadata": {},
   "outputs": [
    {
     "data": {
      "text/plain": [
       "datetime.datetime(2014, 12, 15, 0, 0)"
      ]
     },
     "execution_count": 5,
     "metadata": {},
     "output_type": "execute_result"
    }
   ],
   "source": [
    "datetime(2014, 12, 15)"
   ]
  },
  {
   "cell_type": "code",
   "execution_count": 6,
   "id": "ce500482",
   "metadata": {},
   "outputs": [],
   "source": [
    "date_with_hour_minutes = datetime(2014, 12, 15, 17, 30)"
   ]
  },
  {
   "cell_type": "code",
   "execution_count": 13,
   "id": "ec516d87",
   "metadata": {},
   "outputs": [
    {
     "data": {
      "text/plain": [
       "datetime.datetime(2014, 12, 15, 17, 30)"
      ]
     },
     "execution_count": 13,
     "metadata": {},
     "output_type": "execute_result"
    }
   ],
   "source": [
    "date_with_hour_minutes"
   ]
  },
  {
   "cell_type": "code",
   "execution_count": 14,
   "id": "b9251587",
   "metadata": {},
   "outputs": [],
   "source": [
    "date_today=datetime.now()"
   ]
  },
  {
   "cell_type": "code",
   "execution_count": 16,
   "id": "eccac9e3",
   "metadata": {},
   "outputs": [
    {
     "data": {
      "text/plain": [
       "datetime.datetime(2023, 2, 19, 15, 33, 3, 266026)"
      ]
     },
     "execution_count": 16,
     "metadata": {},
     "output_type": "execute_result"
    }
   ],
   "source": [
    "date_today"
   ]
  },
  {
   "cell_type": "code",
   "execution_count": 17,
   "id": "5e398d76",
   "metadata": {},
   "outputs": [],
   "source": [
    "pandas_date=pd.Timestamp('2014-12-15')"
   ]
  },
  {
   "cell_type": "code",
   "execution_count": 18,
   "id": "d9357f04",
   "metadata": {},
   "outputs": [
    {
     "data": {
      "text/plain": [
       "Timestamp('2014-12-15 00:00:00')"
      ]
     },
     "execution_count": 18,
     "metadata": {},
     "output_type": "execute_result"
    }
   ],
   "source": [
    "pandas_date"
   ]
  },
  {
   "cell_type": "code",
   "execution_count": 21,
   "id": "3578a89c",
   "metadata": {},
   "outputs": [],
   "source": [
    "#Adds time time to date now\n",
    "pandas_time= pd.Timestamp('17:30')"
   ]
  },
  {
   "cell_type": "code",
   "execution_count": 22,
   "id": "5bd3168a",
   "metadata": {},
   "outputs": [
    {
     "data": {
      "text/plain": [
       "Timestamp('2023-02-19 17:30:00')"
      ]
     },
     "execution_count": 22,
     "metadata": {},
     "output_type": "execute_result"
    }
   ],
   "source": [
    "pandas_time"
   ]
  },
  {
   "cell_type": "code",
   "execution_count": 24,
   "id": "00c30e59",
   "metadata": {},
   "outputs": [],
   "source": [
    "pandas_current_datetime=pd.Timestamp(\"now\")"
   ]
  },
  {
   "cell_type": "code",
   "execution_count": 25,
   "id": "890dd0ee",
   "metadata": {},
   "outputs": [
    {
     "data": {
      "text/plain": [
       "Timestamp('2023-02-19 15:41:06.809694')"
      ]
     },
     "execution_count": 25,
     "metadata": {},
     "output_type": "execute_result"
    }
   ],
   "source": [
    "pandas_current_datetime"
   ]
  },
  {
   "cell_type": "code",
   "execution_count": 27,
   "id": "b7002e12",
   "metadata": {},
   "outputs": [],
   "source": [
    "#Time delta to create diff in two timestamps\n",
    "today= datetime(2014, 11, 30)"
   ]
  },
  {
   "cell_type": "code",
   "execution_count": 28,
   "id": "129916fd",
   "metadata": {},
   "outputs": [],
   "source": [
    "tommorrow = today + pd.Timedelta(days=1)"
   ]
  },
  {
   "cell_type": "code",
   "execution_count": 29,
   "id": "9d7bd60a",
   "metadata": {},
   "outputs": [
    {
     "data": {
      "text/plain": [
       "datetime.datetime(2014, 12, 1, 0, 0)"
      ]
     },
     "execution_count": 29,
     "metadata": {},
     "output_type": "execute_result"
    }
   ],
   "source": [
    "tommorrow"
   ]
  },
  {
   "cell_type": "code",
   "execution_count": null,
   "id": "5eec82f5",
   "metadata": {},
   "outputs": [],
   "source": []
  }
 ],
 "metadata": {
  "kernelspec": {
   "display_name": "Python 3 (ipykernel)",
   "language": "python",
   "name": "python3"
  },
  "language_info": {
   "codemirror_mode": {
    "name": "ipython",
    "version": 3
   },
   "file_extension": ".py",
   "mimetype": "text/x-python",
   "name": "python",
   "nbconvert_exporter": "python",
   "pygments_lexer": "ipython3",
   "version": "3.9.7"
  }
 },
 "nbformat": 4,
 "nbformat_minor": 5
}
