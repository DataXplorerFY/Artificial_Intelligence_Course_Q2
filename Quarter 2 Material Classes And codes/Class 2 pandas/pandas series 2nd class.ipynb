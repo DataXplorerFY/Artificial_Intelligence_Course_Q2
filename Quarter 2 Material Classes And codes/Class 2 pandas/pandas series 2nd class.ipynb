{
 "cells": [
  {
   "cell_type": "markdown",
   "id": "45cfaf54",
   "metadata": {},
   "source": [
    "# Series in pandas"
   ]
  },
  {
   "cell_type": "code",
   "execution_count": 1,
   "id": "fd1ff021",
   "metadata": {},
   "outputs": [],
   "source": [
    "import pandas as pd"
   ]
  },
  {
   "cell_type": "code",
   "execution_count": 2,
   "id": "a2cfd3e1",
   "metadata": {},
   "outputs": [],
   "source": [
    "obj=pd.Series([4,7,-5,3])"
   ]
  },
  {
   "cell_type": "code",
   "execution_count": 3,
   "id": "dac4ae60",
   "metadata": {},
   "outputs": [
    {
     "data": {
      "text/plain": [
       "0    4\n",
       "1    7\n",
       "2   -5\n",
       "3    3\n",
       "dtype: int64"
      ]
     },
     "execution_count": 3,
     "metadata": {},
     "output_type": "execute_result"
    }
   ],
   "source": [
    "obj #in the below result it will provide indexing by its own, on the other hand numpay is not provide this functionaity"
   ]
  },
  {
   "cell_type": "code",
   "execution_count": 4,
   "id": "1ee80a25",
   "metadata": {},
   "outputs": [],
   "source": [
    "Class_data=pd.Series([6562,6529,6505])"
   ]
  },
  {
   "cell_type": "code",
   "execution_count": 5,
   "id": "ae6ca4b3",
   "metadata": {},
   "outputs": [
    {
     "data": {
      "text/plain": [
       "0    6562\n",
       "1    6529\n",
       "2    6505\n",
       "dtype: int64"
      ]
     },
     "execution_count": 5,
     "metadata": {},
     "output_type": "execute_result"
    }
   ],
   "source": [
    "Class_data"
   ]
  },
  {
   "cell_type": "code",
   "execution_count": 6,
   "id": "c4a109c6",
   "metadata": {},
   "outputs": [],
   "source": [
    "#We can also change the indexing as we want \n",
    "Class_data=pd.Series([6562,6529,6505],index=['Farhan','Daud','Minhal Arshad'])"
   ]
  },
  {
   "cell_type": "code",
   "execution_count": 7,
   "id": "44fa6aba",
   "metadata": {},
   "outputs": [
    {
     "data": {
      "text/plain": [
       "Farhan           6562\n",
       "Daud             6529\n",
       "Minhal Arshad    6505\n",
       "dtype: int64"
      ]
     },
     "execution_count": 7,
     "metadata": {},
     "output_type": "execute_result"
    }
   ],
   "source": [
    "Class_data"
   ]
  },
  {
   "cell_type": "code",
   "execution_count": 8,
   "id": "7fae28e3",
   "metadata": {},
   "outputs": [],
   "source": [
    "#we can also print only values like 6562 6529 etc etc by using the below function"
   ]
  },
  {
   "cell_type": "code",
   "execution_count": 9,
   "id": "ea33f1d4",
   "metadata": {},
   "outputs": [
    {
     "data": {
      "text/plain": [
       "array([6562, 6529, 6505], dtype=int64)"
      ]
     },
     "execution_count": 9,
     "metadata": {},
     "output_type": "execute_result"
    }
   ],
   "source": [
    "Class_data.values"
   ]
  },
  {
   "cell_type": "code",
   "execution_count": 10,
   "id": "d492975c",
   "metadata": {},
   "outputs": [],
   "source": [
    "#we can also find only index by using the .index func as below"
   ]
  },
  {
   "cell_type": "code",
   "execution_count": 11,
   "id": "ec8aa421",
   "metadata": {},
   "outputs": [
    {
     "data": {
      "text/plain": [
       "Index(['Farhan', 'Daud', 'Minhal Arshad'], dtype='object')"
      ]
     },
     "execution_count": 11,
     "metadata": {},
     "output_type": "execute_result"
    }
   ],
   "source": [
    "Class_data.index"
   ]
  },
  {
   "cell_type": "code",
   "execution_count": 12,
   "id": "d2130adc",
   "metadata": {},
   "outputs": [],
   "source": [
    "#we can also use name method like below"
   ]
  },
  {
   "cell_type": "code",
   "execution_count": 13,
   "id": "14d70cc7",
   "metadata": {},
   "outputs": [],
   "source": [
    "Class_data=pd.Series([6562,6529,6505],index=['Farhan','Daud','Minhal Arshad'],name=\"BSSE students data\")"
   ]
  },
  {
   "cell_type": "code",
   "execution_count": 14,
   "id": "abf4ccc4",
   "metadata": {},
   "outputs": [
    {
     "data": {
      "text/plain": [
       "Farhan           6562\n",
       "Daud             6529\n",
       "Minhal Arshad    6505\n",
       "Name: BSSE students data, dtype: int64"
      ]
     },
     "execution_count": 14,
     "metadata": {},
     "output_type": "execute_result"
    }
   ],
   "source": [
    "Class_data"
   ]
  },
  {
   "cell_type": "markdown",
   "id": "6eb063d2",
   "metadata": {},
   "source": [
    "# Create a pandas series that hold values how many sandwiches are sold each day"
   ]
  },
  {
   "cell_type": "code",
   "execution_count": 15,
   "id": "aef8aea1",
   "metadata": {},
   "outputs": [],
   "source": [
    "Canteen_data=pd.Series([10,20,30,40,10,35,50],index=['Monday','Tuesday','Wednesday','Thursday','Friday','Saturday','Sunday'],name=\"7 Days Canteen Data\")"
   ]
  },
  {
   "cell_type": "code",
   "execution_count": 16,
   "id": "1b171e47",
   "metadata": {},
   "outputs": [
    {
     "data": {
      "text/plain": [
       "Monday       10\n",
       "Tuesday      20\n",
       "Wednesday    30\n",
       "Thursday     40\n",
       "Friday       10\n",
       "Saturday     35\n",
       "Sunday       50\n",
       "Name: 7 Days Canteen Data, dtype: int64"
      ]
     },
     "execution_count": 16,
     "metadata": {},
     "output_type": "execute_result"
    }
   ],
   "source": [
    "Canteen_data"
   ]
  },
  {
   "cell_type": "markdown",
   "id": "9d2c9cb1",
   "metadata": {},
   "source": [
    "# How to Access data from the above stored data in pandas series"
   ]
  },
  {
   "cell_type": "code",
   "execution_count": 17,
   "id": "1d8c9314",
   "metadata": {},
   "outputs": [],
   "source": [
    "#simply use Canteen_data[], in brackets we use the indexing number like 0 1 2 etc etc like below"
   ]
  },
  {
   "cell_type": "code",
   "execution_count": 18,
   "id": "da5b16f7",
   "metadata": {},
   "outputs": [
    {
     "data": {
      "text/plain": [
       "20"
      ]
     },
     "execution_count": 18,
     "metadata": {},
     "output_type": "execute_result"
    }
   ],
   "source": [
    "Canteen_data[1]"
   ]
  },
  {
   "cell_type": "code",
   "execution_count": 19,
   "id": "13b7fd1d",
   "metadata": {},
   "outputs": [],
   "source": [
    "#another way to access data in pandas by using indexing like i want to get tuesday canteen data "
   ]
  },
  {
   "cell_type": "code",
   "execution_count": 20,
   "id": "e1349f18",
   "metadata": {},
   "outputs": [
    {
     "data": {
      "text/plain": [
       "20"
      ]
     },
     "execution_count": 20,
     "metadata": {},
     "output_type": "execute_result"
    }
   ],
   "source": [
    "Canteen_data[\"Tuesday\"]"
   ]
  },
  {
   "cell_type": "code",
   "execution_count": 21,
   "id": "3fecdcbb",
   "metadata": {},
   "outputs": [],
   "source": [
    "#To get multiple values we use the below code"
   ]
  },
  {
   "cell_type": "code",
   "execution_count": 22,
   "id": "92d9e747",
   "metadata": {},
   "outputs": [
    {
     "data": {
      "text/plain": [
       "Thursday    40\n",
       "Friday      10\n",
       "Saturday    35\n",
       "Sunday      50\n",
       "Name: 7 Days Canteen Data, dtype: int64"
      ]
     },
     "execution_count": 22,
     "metadata": {},
     "output_type": "execute_result"
    }
   ],
   "source": [
    "Canteen_data[[3,4,5,6]]"
   ]
  },
  {
   "cell_type": "code",
   "execution_count": 23,
   "id": "e4b936e1",
   "metadata": {},
   "outputs": [
    {
     "data": {
      "text/plain": [
       "Sunday    50\n",
       "Monday    10\n",
       "Name: 7 Days Canteen Data, dtype: int64"
      ]
     },
     "execution_count": 23,
     "metadata": {},
     "output_type": "execute_result"
    }
   ],
   "source": [
    "Canteen_data[[\"Sunday\",\"Monday\"]]"
   ]
  },
  {
   "cell_type": "markdown",
   "id": "9537f261",
   "metadata": {},
   "source": [
    "# We can Also select conditional data"
   ]
  },
  {
   "cell_type": "code",
   "execution_count": 24,
   "id": "1b980654",
   "metadata": {},
   "outputs": [
    {
     "data": {
      "text/plain": [
       "Wednesday    30\n",
       "Thursday     40\n",
       "Saturday     35\n",
       "Sunday       50\n",
       "Name: 7 Days Canteen Data, dtype: int64"
      ]
     },
     "execution_count": 24,
     "metadata": {},
     "output_type": "execute_result"
    }
   ],
   "source": [
    "Canteen_data[Canteen_data>20]"
   ]
  },
  {
   "cell_type": "code",
   "execution_count": 25,
   "id": "236f1389",
   "metadata": {},
   "outputs": [
    {
     "data": {
      "text/plain": [
       "Monday       10\n",
       "Tuesday      20\n",
       "Wednesday    30\n",
       "Friday       10\n",
       "Saturday     35\n",
       "Name: 7 Days Canteen Data, dtype: int64"
      ]
     },
     "execution_count": 25,
     "metadata": {},
     "output_type": "execute_result"
    }
   ],
   "source": [
    "Canteen_data[Canteen_data<40]"
   ]
  },
  {
   "cell_type": "code",
   "execution_count": 26,
   "id": "9d8ac74d",
   "metadata": {},
   "outputs": [
    {
     "data": {
      "text/plain": [
       "Monday       10\n",
       "Tuesday      20\n",
       "Wednesday    30\n",
       "Friday       10\n",
       "Name: 7 Days Canteen Data, dtype: int64"
      ]
     },
     "execution_count": 26,
     "metadata": {},
     "output_type": "execute_result"
    }
   ],
   "source": [
    "Canteen_data[Canteen_data<=30]"
   ]
  },
  {
   "cell_type": "code",
   "execution_count": 27,
   "id": "83638bba",
   "metadata": {},
   "outputs": [
    {
     "data": {
      "text/plain": [
       "Wednesday    30\n",
       "Name: 7 Days Canteen Data, dtype: int64"
      ]
     },
     "execution_count": 27,
     "metadata": {},
     "output_type": "execute_result"
    }
   ],
   "source": [
    "Canteen_data[Canteen_data==30 ]"
   ]
  },
  {
   "cell_type": "markdown",
   "id": "77c2f4a9",
   "metadata": {},
   "source": [
    "# Modifying canteen data by * or / with dif values"
   ]
  },
  {
   "cell_type": "code",
   "execution_count": 28,
   "id": "babca8ee",
   "metadata": {},
   "outputs": [
    {
     "data": {
      "text/plain": [
       "Monday       10\n",
       "Tuesday      20\n",
       "Wednesday    30\n",
       "Thursday     40\n",
       "Friday       10\n",
       "Saturday     35\n",
       "Sunday       50\n",
       "Name: 7 Days Canteen Data, dtype: int64"
      ]
     },
     "execution_count": 28,
     "metadata": {},
     "output_type": "execute_result"
    }
   ],
   "source": [
    "#origional values\n",
    "Canteen_data"
   ]
  },
  {
   "cell_type": "code",
   "execution_count": 29,
   "id": "fd205a9a",
   "metadata": {},
   "outputs": [
    {
     "data": {
      "text/plain": [
       "Monday        20\n",
       "Tuesday       40\n",
       "Wednesday     60\n",
       "Thursday      80\n",
       "Friday        20\n",
       "Saturday      70\n",
       "Sunday       100\n",
       "Name: 7 Days Canteen Data, dtype: int64"
      ]
     },
     "execution_count": 29,
     "metadata": {},
     "output_type": "execute_result"
    }
   ],
   "source": [
    "#modifying values, but it doest not stor in origional values Canteen_data\n",
    "Canteen_data * 2"
   ]
  },
  {
   "cell_type": "code",
   "execution_count": 30,
   "id": "70204365",
   "metadata": {},
   "outputs": [
    {
     "data": {
      "text/plain": [
       "Monday       10\n",
       "Tuesday      20\n",
       "Wednesday    30\n",
       "Thursday     40\n",
       "Friday       10\n",
       "Saturday     35\n",
       "Sunday       50\n",
       "Name: 7 Days Canteen Data, dtype: int64"
      ]
     },
     "execution_count": 30,
     "metadata": {},
     "output_type": "execute_result"
    }
   ],
   "source": [
    "Canteen_data"
   ]
  },
  {
   "cell_type": "code",
   "execution_count": 31,
   "id": "1edc88d2",
   "metadata": {},
   "outputs": [],
   "source": [
    "#this will permamentaly change and modify origional Canteen_data\n",
    "Canteen_data=Canteen_data*2"
   ]
  },
  {
   "cell_type": "code",
   "execution_count": 32,
   "id": "ecd1a87c",
   "metadata": {},
   "outputs": [
    {
     "data": {
      "text/plain": [
       "Monday        20\n",
       "Tuesday       40\n",
       "Wednesday     60\n",
       "Thursday      80\n",
       "Friday        20\n",
       "Saturday      70\n",
       "Sunday       100\n",
       "Name: 7 Days Canteen Data, dtype: int64"
      ]
     },
     "execution_count": 32,
     "metadata": {},
     "output_type": "execute_result"
    }
   ],
   "source": [
    "Canteen_data"
   ]
  },
  {
   "cell_type": "markdown",
   "id": "82cd3e14",
   "metadata": {},
   "source": [
    "# Make pandas series from numpy array data like below"
   ]
  },
  {
   "cell_type": "code",
   "execution_count": 33,
   "id": "4fee8f23",
   "metadata": {},
   "outputs": [],
   "source": [
    "import numpy as np"
   ]
  },
  {
   "cell_type": "code",
   "execution_count": 34,
   "id": "680debe5",
   "metadata": {},
   "outputs": [],
   "source": [
    "arr=([1,2,3,4,5,6,7])"
   ]
  },
  {
   "cell_type": "code",
   "execution_count": 35,
   "id": "b3e3958a",
   "metadata": {},
   "outputs": [],
   "source": [
    "ind=(['jan','feb','march','april','may','june','july'])"
   ]
  },
  {
   "cell_type": "code",
   "execution_count": 36,
   "id": "53017f61",
   "metadata": {},
   "outputs": [],
   "source": [
    "series=pd.Series(arr,index=ind)"
   ]
  },
  {
   "cell_type": "code",
   "execution_count": 37,
   "id": "a45b7dc1",
   "metadata": {},
   "outputs": [
    {
     "data": {
      "text/plain": [
       "jan      1\n",
       "feb      2\n",
       "march    3\n",
       "april    4\n",
       "may      5\n",
       "june     6\n",
       "july     7\n",
       "dtype: int64"
      ]
     },
     "execution_count": 37,
     "metadata": {},
     "output_type": "execute_result"
    }
   ],
   "source": [
    "series"
   ]
  },
  {
   "cell_type": "code",
   "execution_count": null,
   "id": "2d0f3a5f",
   "metadata": {},
   "outputs": [],
   "source": []
  }
 ],
 "metadata": {
  "kernelspec": {
   "display_name": "Python 3 (ipykernel)",
   "language": "python",
   "name": "python3"
  },
  "language_info": {
   "codemirror_mode": {
    "name": "ipython",
    "version": 3
   },
   "file_extension": ".py",
   "mimetype": "text/x-python",
   "name": "python",
   "nbconvert_exporter": "python",
   "pygments_lexer": "ipython3",
   "version": "3.9.7"
  }
 },
 "nbformat": 4,
 "nbformat_minor": 5
}
