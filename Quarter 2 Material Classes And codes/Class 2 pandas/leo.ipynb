{
 "cells": [
  {
   "cell_type": "code",
   "execution_count": 1,
   "id": "14e043f1",
   "metadata": {},
   "outputs": [],
   "source": [
    "import pandas as pd"
   ]
  },
  {
   "cell_type": "code",
   "execution_count": 2,
   "id": "2b763ff8",
   "metadata": {},
   "outputs": [],
   "source": [
    "obj=pd.Series([1,2,3,4,4])"
   ]
  },
  {
   "cell_type": "code",
   "execution_count": 3,
   "id": "36e5883a",
   "metadata": {},
   "outputs": [
    {
     "data": {
      "text/plain": [
       "0    1\n",
       "1    2\n",
       "2    3\n",
       "3    4\n",
       "4    4\n",
       "dtype: int64"
      ]
     },
     "execution_count": 3,
     "metadata": {},
     "output_type": "execute_result"
    }
   ],
   "source": [
    "obj"
   ]
  },
  {
   "cell_type": "code",
   "execution_count": 4,
   "id": "757d6c2c",
   "metadata": {},
   "outputs": [
    {
     "data": {
      "text/plain": [
       "array([1, 2, 3, 4, 4], dtype=int64)"
      ]
     },
     "execution_count": 4,
     "metadata": {},
     "output_type": "execute_result"
    }
   ],
   "source": [
    "obj.values"
   ]
  },
  {
   "cell_type": "code",
   "execution_count": 7,
   "id": "b5e602c8",
   "metadata": {},
   "outputs": [
    {
     "data": {
      "text/plain": [
       "RangeIndex(start=0, stop=5, step=1)"
      ]
     },
     "execution_count": 7,
     "metadata": {},
     "output_type": "execute_result"
    }
   ],
   "source": [
    "obj.index"
   ]
  },
  {
   "cell_type": "code",
   "execution_count": 8,
   "id": "4b4c9f1c",
   "metadata": {},
   "outputs": [
    {
     "data": {
      "text/plain": [
       "0    1\n",
       "1    2\n",
       "2    3\n",
       "3    4\n",
       "4    4\n",
       "dtype: int64"
      ]
     },
     "execution_count": 8,
     "metadata": {},
     "output_type": "execute_result"
    }
   ],
   "source": [
    "obj\n"
   ]
  },
  {
   "cell_type": "code",
   "execution_count": 9,
   "id": "e951fad6",
   "metadata": {},
   "outputs": [
    {
     "data": {
      "text/plain": [
       "A    1\n",
       "B    2\n",
       "C    3\n",
       "D    4\n",
       "E    4\n",
       "dtype: int64"
      ]
     },
     "execution_count": 9,
     "metadata": {},
     "output_type": "execute_result"
    }
   ],
   "source": [
    "obj=pd.Series([1,2,3,4,4],index=['A','B','C','D','E'])\n",
    "obj"
   ]
  },
  {
   "cell_type": "code",
   "execution_count": 12,
   "id": "18dabf75",
   "metadata": {},
   "outputs": [],
   "source": [
    "Class_data=pd.Series([6562,6529,6505,6521],index=['Farhan','Daud','Minhal','Usama'],name='Section_A students')"
   ]
  },
  {
   "cell_type": "code",
   "execution_count": 13,
   "id": "0a7cd0f1",
   "metadata": {},
   "outputs": [
    {
     "data": {
      "text/plain": [
       "Farhan    6562\n",
       "Daud      6529\n",
       "Minhal    6505\n",
       "Usama     6521\n",
       "Name: Section_A students, dtype: int64"
      ]
     },
     "execution_count": 13,
     "metadata": {},
     "output_type": "execute_result"
    }
   ],
   "source": [
    "Class_data"
   ]
  },
  {
   "cell_type": "code",
   "execution_count": 15,
   "id": "81452342",
   "metadata": {},
   "outputs": [
    {
     "data": {
      "text/plain": [
       "array([6562, 6529, 6505, 6521], dtype=int64)"
      ]
     },
     "execution_count": 15,
     "metadata": {},
     "output_type": "execute_result"
    }
   ],
   "source": [
    "Class_data.values"
   ]
  },
  {
   "cell_type": "code",
   "execution_count": 17,
   "id": "57e4d177",
   "metadata": {},
   "outputs": [
    {
     "data": {
      "text/plain": [
       "Index(['Farhan', 'Daud', 'Minhal', 'Usama'], dtype='object')"
      ]
     },
     "execution_count": 17,
     "metadata": {},
     "output_type": "execute_result"
    }
   ],
   "source": [
    "Class_data.index"
   ]
  },
  {
   "cell_type": "markdown",
   "id": "7ca30c08",
   "metadata": {},
   "source": [
    "# canteen data of 7 days that hold values of sandwitches sold in each day"
   ]
  },
  {
   "cell_type": "code",
   "execution_count": 18,
   "id": "046600b1",
   "metadata": {},
   "outputs": [],
   "source": [
    "canteen_data=pd.Series([10,30,100,20,40,50,80],index=['monday','tuesday','wednesday','thursday','friday','saturday','sunday'],name=\"Canteen data for earning\")"
   ]
  },
  {
   "cell_type": "code",
   "execution_count": 19,
   "id": "8b7cc94a",
   "metadata": {},
   "outputs": [
    {
     "data": {
      "text/plain": [
       "monday        10\n",
       "tuesday       30\n",
       "wednesday    100\n",
       "thursday      20\n",
       "friday        40\n",
       "saturday      50\n",
       "sunday        80\n",
       "Name: Canteen data for earning, dtype: int64"
      ]
     },
     "execution_count": 19,
     "metadata": {},
     "output_type": "execute_result"
    }
   ],
   "source": [
    "canteen_data"
   ]
  },
  {
   "cell_type": "markdown",
   "id": "e19834d4",
   "metadata": {},
   "source": [
    "# How to access data from pandas series"
   ]
  },
  {
   "cell_type": "code",
   "execution_count": 29,
   "id": "d051dea8",
   "metadata": {},
   "outputs": [
    {
     "data": {
      "text/plain": [
       "30"
      ]
     },
     "execution_count": 29,
     "metadata": {},
     "output_type": "execute_result"
    }
   ],
   "source": [
    "canteen_data[1]"
   ]
  },
  {
   "cell_type": "code",
   "execution_count": 30,
   "id": "f8f9f9a3",
   "metadata": {},
   "outputs": [
    {
     "data": {
      "text/plain": [
       "40"
      ]
     },
     "execution_count": 30,
     "metadata": {},
     "output_type": "execute_result"
    }
   ],
   "source": [
    "canteen_data[4]"
   ]
  },
  {
   "cell_type": "code",
   "execution_count": 31,
   "id": "f46e4fc3",
   "metadata": {},
   "outputs": [],
   "source": [
    "#another way to get canteen data by using indexing number like below"
   ]
  },
  {
   "cell_type": "code",
   "execution_count": 32,
   "id": "c21c7c75",
   "metadata": {},
   "outputs": [
    {
     "data": {
      "text/plain": [
       "80"
      ]
     },
     "execution_count": 32,
     "metadata": {},
     "output_type": "execute_result"
    }
   ],
   "source": [
    "canteen_data['sunday']"
   ]
  },
  {
   "cell_type": "code",
   "execution_count": 33,
   "id": "6375f060",
   "metadata": {},
   "outputs": [
    {
     "data": {
      "text/plain": [
       "40"
      ]
     },
     "execution_count": 33,
     "metadata": {},
     "output_type": "execute_result"
    }
   ],
   "source": [
    "canteen_data['friday']"
   ]
  },
  {
   "cell_type": "code",
   "execution_count": 34,
   "id": "9ef702cd",
   "metadata": {},
   "outputs": [],
   "source": [
    "#for getting multiple values from series we use the code below:\n"
   ]
  },
  {
   "cell_type": "code",
   "execution_count": 36,
   "id": "cd2d676e",
   "metadata": {},
   "outputs": [
    {
     "data": {
      "text/plain": [
       "10"
      ]
     },
     "execution_count": 36,
     "metadata": {},
     "output_type": "execute_result"
    }
   ],
   "source": [
    "canteen_data['monday']"
   ]
  },
  {
   "cell_type": "code",
   "execution_count": 37,
   "id": "14cb58f7",
   "metadata": {},
   "outputs": [
    {
     "data": {
      "text/plain": [
       "20"
      ]
     },
     "execution_count": 37,
     "metadata": {},
     "output_type": "execute_result"
    }
   ],
   "source": [
    "canteen_data[3]"
   ]
  },
  {
   "cell_type": "code",
   "execution_count": 39,
   "id": "c9cf01a3",
   "metadata": {},
   "outputs": [
    {
     "data": {
      "text/plain": [
       "tuesday     30\n",
       "thursday    20\n",
       "Name: Canteen data for earning, dtype: int64"
      ]
     },
     "execution_count": 39,
     "metadata": {},
     "output_type": "execute_result"
    }
   ],
   "source": [
    "canteen_data[ [1,3 ] ]"
   ]
  },
  {
   "cell_type": "code",
   "execution_count": 40,
   "id": "4315f65b",
   "metadata": {},
   "outputs": [
    {
     "data": {
      "text/plain": [
       "tuesday       30\n",
       "wednesday    100\n",
       "friday        40\n",
       "saturday      50\n",
       "sunday        80\n",
       "Name: Canteen data for earning, dtype: int64"
      ]
     },
     "execution_count": 40,
     "metadata": {},
     "output_type": "execute_result"
    }
   ],
   "source": [
    "canteen_data[canteen_data>20]"
   ]
  },
  {
   "cell_type": "code",
   "execution_count": null,
   "id": "0ad501d0",
   "metadata": {},
   "outputs": [],
   "source": []
  }
 ],
 "metadata": {
  "kernelspec": {
   "display_name": "Python 3 (ipykernel)",
   "language": "python",
   "name": "python3"
  },
  "language_info": {
   "codemirror_mode": {
    "name": "ipython",
    "version": 3
   },
   "file_extension": ".py",
   "mimetype": "text/x-python",
   "name": "python",
   "nbconvert_exporter": "python",
   "pygments_lexer": "ipython3",
   "version": "3.9.7"
  }
 },
 "nbformat": 4,
 "nbformat_minor": 5
}
