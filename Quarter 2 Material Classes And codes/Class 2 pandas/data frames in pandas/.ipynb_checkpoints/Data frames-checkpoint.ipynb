{
 "cells": [
  {
   "cell_type": "markdown",
   "id": "8fcf11cc",
   "metadata": {},
   "source": [
    "# Data frames"
   ]
  },
  {
   "cell_type": "markdown",
   "id": "ef8d7f34",
   "metadata": {},
   "source": [
    "# data frames used for multidimensional data we can make data frames by combining two series like Series+series=dataframe\n",
    "\n"
   ]
  },
  {
   "cell_type": "code",
   "execution_count": 103,
   "id": "159254d3",
   "metadata": {},
   "outputs": [],
   "source": [
    "import pandas as pd"
   ]
  },
  {
   "cell_type": "code",
   "execution_count": 104,
   "id": "0b3532e0",
   "metadata": {},
   "outputs": [],
   "source": [
    "apples=pd.Series([3,2,0,1])"
   ]
  },
  {
   "cell_type": "code",
   "execution_count": 105,
   "id": "d85d6e76",
   "metadata": {},
   "outputs": [],
   "source": [
    "oranges=pd.Series([3,2,0,1])"
   ]
  },
  {
   "cell_type": "code",
   "execution_count": 106,
   "id": "a081417a",
   "metadata": {},
   "outputs": [
    {
     "name": "stdout",
     "output_type": "stream",
     "text": [
      "0    3\n",
      "1    2\n",
      "2    0\n",
      "3    1\n",
      "dtype: int64 0    3\n",
      "1    2\n",
      "2    0\n",
      "3    1\n",
      "dtype: int64\n"
     ]
    }
   ],
   "source": [
    "print(apples,oranges)"
   ]
  },
  {
   "cell_type": "code",
   "execution_count": 107,
   "id": "7560193c",
   "metadata": {},
   "outputs": [],
   "source": [
    "data={\"apples\":apples,\"oranges\":oranges}"
   ]
  },
  {
   "cell_type": "code",
   "execution_count": 108,
   "id": "7d83eb4f",
   "metadata": {},
   "outputs": [],
   "source": [
    "fruits_df=pd.DataFrame(data)"
   ]
  },
  {
   "cell_type": "code",
   "execution_count": 109,
   "id": "5633eb6f",
   "metadata": {},
   "outputs": [
    {
     "data": {
      "text/html": [
       "<div>\n",
       "<style scoped>\n",
       "    .dataframe tbody tr th:only-of-type {\n",
       "        vertical-align: middle;\n",
       "    }\n",
       "\n",
       "    .dataframe tbody tr th {\n",
       "        vertical-align: top;\n",
       "    }\n",
       "\n",
       "    .dataframe thead th {\n",
       "        text-align: right;\n",
       "    }\n",
       "</style>\n",
       "<table border=\"1\" class=\"dataframe\">\n",
       "  <thead>\n",
       "    <tr style=\"text-align: right;\">\n",
       "      <th></th>\n",
       "      <th>apples</th>\n",
       "      <th>oranges</th>\n",
       "    </tr>\n",
       "  </thead>\n",
       "  <tbody>\n",
       "    <tr>\n",
       "      <th>0</th>\n",
       "      <td>3</td>\n",
       "      <td>3</td>\n",
       "    </tr>\n",
       "    <tr>\n",
       "      <th>1</th>\n",
       "      <td>2</td>\n",
       "      <td>2</td>\n",
       "    </tr>\n",
       "    <tr>\n",
       "      <th>2</th>\n",
       "      <td>0</td>\n",
       "      <td>0</td>\n",
       "    </tr>\n",
       "    <tr>\n",
       "      <th>3</th>\n",
       "      <td>1</td>\n",
       "      <td>1</td>\n",
       "    </tr>\n",
       "  </tbody>\n",
       "</table>\n",
       "</div>"
      ],
      "text/plain": [
       "   apples  oranges\n",
       "0       3        3\n",
       "1       2        2\n",
       "2       0        0\n",
       "3       1        1"
      ]
     },
     "execution_count": 109,
     "metadata": {},
     "output_type": "execute_result"
    }
   ],
   "source": [
    "fruits_df"
   ]
  },
  {
   "cell_type": "code",
   "execution_count": 110,
   "id": "f92bf445",
   "metadata": {},
   "outputs": [],
   "source": [
    "#lets have another example"
   ]
  },
  {
   "cell_type": "code",
   "execution_count": 111,
   "id": "aa9e6f1c",
   "metadata": {},
   "outputs": [],
   "source": [
    "Dict={\n",
    "    \"students\":[\"Farhan\",\"Daud\",\"Minhal\",\"Usama\",\"hafiz\"],\n",
    "    \"Ag\":[6562,6529,6505,6521,6524],\n",
    "    \"cgpa\":[2.8,3.0,3.2,2.8,3.9] \n",
    "    \n",
    "}"
   ]
  },
  {
   "cell_type": "code",
   "execution_count": 112,
   "id": "7650e01a",
   "metadata": {},
   "outputs": [],
   "source": [
    "frame=pd.DataFrame(Dict)"
   ]
  },
  {
   "cell_type": "code",
   "execution_count": 113,
   "id": "e80ddc44",
   "metadata": {},
   "outputs": [
    {
     "data": {
      "text/html": [
       "<div>\n",
       "<style scoped>\n",
       "    .dataframe tbody tr th:only-of-type {\n",
       "        vertical-align: middle;\n",
       "    }\n",
       "\n",
       "    .dataframe tbody tr th {\n",
       "        vertical-align: top;\n",
       "    }\n",
       "\n",
       "    .dataframe thead th {\n",
       "        text-align: right;\n",
       "    }\n",
       "</style>\n",
       "<table border=\"1\" class=\"dataframe\">\n",
       "  <thead>\n",
       "    <tr style=\"text-align: right;\">\n",
       "      <th></th>\n",
       "      <th>students</th>\n",
       "      <th>Ag</th>\n",
       "      <th>cgpa</th>\n",
       "    </tr>\n",
       "  </thead>\n",
       "  <tbody>\n",
       "    <tr>\n",
       "      <th>0</th>\n",
       "      <td>Farhan</td>\n",
       "      <td>6562</td>\n",
       "      <td>2.8</td>\n",
       "    </tr>\n",
       "    <tr>\n",
       "      <th>1</th>\n",
       "      <td>Daud</td>\n",
       "      <td>6529</td>\n",
       "      <td>3.0</td>\n",
       "    </tr>\n",
       "    <tr>\n",
       "      <th>2</th>\n",
       "      <td>Minhal</td>\n",
       "      <td>6505</td>\n",
       "      <td>3.2</td>\n",
       "    </tr>\n",
       "    <tr>\n",
       "      <th>3</th>\n",
       "      <td>Usama</td>\n",
       "      <td>6521</td>\n",
       "      <td>2.8</td>\n",
       "    </tr>\n",
       "    <tr>\n",
       "      <th>4</th>\n",
       "      <td>hafiz</td>\n",
       "      <td>6524</td>\n",
       "      <td>3.9</td>\n",
       "    </tr>\n",
       "  </tbody>\n",
       "</table>\n",
       "</div>"
      ],
      "text/plain": [
       "  students    Ag  cgpa\n",
       "0   Farhan  6562   2.8\n",
       "1     Daud  6529   3.0\n",
       "2   Minhal  6505   3.2\n",
       "3    Usama  6521   2.8\n",
       "4    hafiz  6524   3.9"
      ]
     },
     "execution_count": 113,
     "metadata": {},
     "output_type": "execute_result"
    }
   ],
   "source": [
    "frame"
   ]
  },
  {
   "cell_type": "code",
   "execution_count": 114,
   "id": "83fbc588",
   "metadata": {},
   "outputs": [],
   "source": [
    "#we can also use like this"
   ]
  },
  {
   "cell_type": "code",
   "execution_count": 115,
   "id": "c64c61a9",
   "metadata": {},
   "outputs": [],
   "source": [
    "frame=pd.DataFrame(Dict,index=[\"1st\",\"2nd\",\"3rd\",\"4rth\",\"5fth\"])"
   ]
  },
  {
   "cell_type": "code",
   "execution_count": 116,
   "id": "49dfba19",
   "metadata": {},
   "outputs": [
    {
     "data": {
      "text/html": [
       "<div>\n",
       "<style scoped>\n",
       "    .dataframe tbody tr th:only-of-type {\n",
       "        vertical-align: middle;\n",
       "    }\n",
       "\n",
       "    .dataframe tbody tr th {\n",
       "        vertical-align: top;\n",
       "    }\n",
       "\n",
       "    .dataframe thead th {\n",
       "        text-align: right;\n",
       "    }\n",
       "</style>\n",
       "<table border=\"1\" class=\"dataframe\">\n",
       "  <thead>\n",
       "    <tr style=\"text-align: right;\">\n",
       "      <th></th>\n",
       "      <th>students</th>\n",
       "      <th>Ag</th>\n",
       "      <th>cgpa</th>\n",
       "    </tr>\n",
       "  </thead>\n",
       "  <tbody>\n",
       "    <tr>\n",
       "      <th>1st</th>\n",
       "      <td>Farhan</td>\n",
       "      <td>6562</td>\n",
       "      <td>2.8</td>\n",
       "    </tr>\n",
       "    <tr>\n",
       "      <th>2nd</th>\n",
       "      <td>Daud</td>\n",
       "      <td>6529</td>\n",
       "      <td>3.0</td>\n",
       "    </tr>\n",
       "    <tr>\n",
       "      <th>3rd</th>\n",
       "      <td>Minhal</td>\n",
       "      <td>6505</td>\n",
       "      <td>3.2</td>\n",
       "    </tr>\n",
       "    <tr>\n",
       "      <th>4rth</th>\n",
       "      <td>Usama</td>\n",
       "      <td>6521</td>\n",
       "      <td>2.8</td>\n",
       "    </tr>\n",
       "    <tr>\n",
       "      <th>5fth</th>\n",
       "      <td>hafiz</td>\n",
       "      <td>6524</td>\n",
       "      <td>3.9</td>\n",
       "    </tr>\n",
       "  </tbody>\n",
       "</table>\n",
       "</div>"
      ],
      "text/plain": [
       "     students    Ag  cgpa\n",
       "1st    Farhan  6562   2.8\n",
       "2nd      Daud  6529   3.0\n",
       "3rd    Minhal  6505   3.2\n",
       "4rth    Usama  6521   2.8\n",
       "5fth    hafiz  6524   3.9"
      ]
     },
     "execution_count": 116,
     "metadata": {},
     "output_type": "execute_result"
    }
   ],
   "source": [
    "frame"
   ]
  },
  {
   "cell_type": "code",
   "execution_count": 117,
   "id": "b032e64e",
   "metadata": {},
   "outputs": [],
   "source": [
    "frame=pd.DataFrame(Dict,columns=[\"cgpa\",\"Ag\",\"students\"])"
   ]
  },
  {
   "cell_type": "code",
   "execution_count": 118,
   "id": "7eb0c438",
   "metadata": {},
   "outputs": [
    {
     "data": {
      "text/html": [
       "<div>\n",
       "<style scoped>\n",
       "    .dataframe tbody tr th:only-of-type {\n",
       "        vertical-align: middle;\n",
       "    }\n",
       "\n",
       "    .dataframe tbody tr th {\n",
       "        vertical-align: top;\n",
       "    }\n",
       "\n",
       "    .dataframe thead th {\n",
       "        text-align: right;\n",
       "    }\n",
       "</style>\n",
       "<table border=\"1\" class=\"dataframe\">\n",
       "  <thead>\n",
       "    <tr style=\"text-align: right;\">\n",
       "      <th></th>\n",
       "      <th>cgpa</th>\n",
       "      <th>Ag</th>\n",
       "      <th>students</th>\n",
       "    </tr>\n",
       "  </thead>\n",
       "  <tbody>\n",
       "    <tr>\n",
       "      <th>0</th>\n",
       "      <td>2.8</td>\n",
       "      <td>6562</td>\n",
       "      <td>Farhan</td>\n",
       "    </tr>\n",
       "    <tr>\n",
       "      <th>1</th>\n",
       "      <td>3.0</td>\n",
       "      <td>6529</td>\n",
       "      <td>Daud</td>\n",
       "    </tr>\n",
       "    <tr>\n",
       "      <th>2</th>\n",
       "      <td>3.2</td>\n",
       "      <td>6505</td>\n",
       "      <td>Minhal</td>\n",
       "    </tr>\n",
       "    <tr>\n",
       "      <th>3</th>\n",
       "      <td>2.8</td>\n",
       "      <td>6521</td>\n",
       "      <td>Usama</td>\n",
       "    </tr>\n",
       "    <tr>\n",
       "      <th>4</th>\n",
       "      <td>3.9</td>\n",
       "      <td>6524</td>\n",
       "      <td>hafiz</td>\n",
       "    </tr>\n",
       "  </tbody>\n",
       "</table>\n",
       "</div>"
      ],
      "text/plain": [
       "   cgpa    Ag students\n",
       "0   2.8  6562   Farhan\n",
       "1   3.0  6529     Daud\n",
       "2   3.2  6505   Minhal\n",
       "3   2.8  6521    Usama\n",
       "4   3.9  6524    hafiz"
      ]
     },
     "execution_count": 118,
     "metadata": {},
     "output_type": "execute_result"
    }
   ],
   "source": [
    "frame.head()"
   ]
  },
  {
   "cell_type": "code",
   "execution_count": 119,
   "id": "4de81dc3",
   "metadata": {},
   "outputs": [],
   "source": [
    "#another example"
   ]
  },
  {
   "cell_type": "code",
   "execution_count": 120,
   "id": "ef66c70a",
   "metadata": {},
   "outputs": [],
   "source": [
    "dict2={\"students name\":[\"farhan\",\"daud\",\"usama\",\"hafiz\",\"abdullah\",\"subhan\"],\n",
    "       \"Id\":[10,7,8,9,5,3],\n",
    "       \"dpt\":[\"cs\",\"cs\",\"cs\",\"cs\",\"cs\",\"cs\"],\n",
    "       \"cgpa\":[2.9,4.0,3.8,2.5,2.4,3.0]\n",
    "      \n",
    "      \n",
    "      }"
   ]
  },
  {
   "cell_type": "code",
   "execution_count": 121,
   "id": "1e3203c9",
   "metadata": {},
   "outputs": [],
   "source": [
    "frame2=pd.DataFrame(dict2,columns=[\"Id\",\"students name\",\"dpt\",\"cgpa\",\"major\"],index=[\"one\",\"two\",\"three\",\"four\",\"five\",\"six\"])"
   ]
  },
  {
   "cell_type": "code",
   "execution_count": 122,
   "id": "fe15e7e2",
   "metadata": {},
   "outputs": [
    {
     "data": {
      "text/html": [
       "<div>\n",
       "<style scoped>\n",
       "    .dataframe tbody tr th:only-of-type {\n",
       "        vertical-align: middle;\n",
       "    }\n",
       "\n",
       "    .dataframe tbody tr th {\n",
       "        vertical-align: top;\n",
       "    }\n",
       "\n",
       "    .dataframe thead th {\n",
       "        text-align: right;\n",
       "    }\n",
       "</style>\n",
       "<table border=\"1\" class=\"dataframe\">\n",
       "  <thead>\n",
       "    <tr style=\"text-align: right;\">\n",
       "      <th></th>\n",
       "      <th>Id</th>\n",
       "      <th>students name</th>\n",
       "      <th>dpt</th>\n",
       "      <th>cgpa</th>\n",
       "      <th>major</th>\n",
       "    </tr>\n",
       "  </thead>\n",
       "  <tbody>\n",
       "    <tr>\n",
       "      <th>one</th>\n",
       "      <td>10</td>\n",
       "      <td>farhan</td>\n",
       "      <td>cs</td>\n",
       "      <td>2.9</td>\n",
       "      <td>NaN</td>\n",
       "    </tr>\n",
       "    <tr>\n",
       "      <th>two</th>\n",
       "      <td>7</td>\n",
       "      <td>daud</td>\n",
       "      <td>cs</td>\n",
       "      <td>4.0</td>\n",
       "      <td>NaN</td>\n",
       "    </tr>\n",
       "    <tr>\n",
       "      <th>three</th>\n",
       "      <td>8</td>\n",
       "      <td>usama</td>\n",
       "      <td>cs</td>\n",
       "      <td>3.8</td>\n",
       "      <td>NaN</td>\n",
       "    </tr>\n",
       "    <tr>\n",
       "      <th>four</th>\n",
       "      <td>9</td>\n",
       "      <td>hafiz</td>\n",
       "      <td>cs</td>\n",
       "      <td>2.5</td>\n",
       "      <td>NaN</td>\n",
       "    </tr>\n",
       "    <tr>\n",
       "      <th>five</th>\n",
       "      <td>5</td>\n",
       "      <td>abdullah</td>\n",
       "      <td>cs</td>\n",
       "      <td>2.4</td>\n",
       "      <td>NaN</td>\n",
       "    </tr>\n",
       "    <tr>\n",
       "      <th>six</th>\n",
       "      <td>3</td>\n",
       "      <td>subhan</td>\n",
       "      <td>cs</td>\n",
       "      <td>3.0</td>\n",
       "      <td>NaN</td>\n",
       "    </tr>\n",
       "  </tbody>\n",
       "</table>\n",
       "</div>"
      ],
      "text/plain": [
       "       Id students name dpt  cgpa major\n",
       "one    10        farhan  cs   2.9   NaN\n",
       "two     7          daud  cs   4.0   NaN\n",
       "three   8         usama  cs   3.8   NaN\n",
       "four    9         hafiz  cs   2.5   NaN\n",
       "five    5      abdullah  cs   2.4   NaN\n",
       "six     3        subhan  cs   3.0   NaN"
      ]
     },
     "execution_count": 122,
     "metadata": {},
     "output_type": "execute_result"
    }
   ],
   "source": [
    "frame2"
   ]
  },
  {
   "cell_type": "code",
   "execution_count": 123,
   "id": "86fb92b3",
   "metadata": {},
   "outputs": [
    {
     "data": {
      "text/html": [
       "<div>\n",
       "<style scoped>\n",
       "    .dataframe tbody tr th:only-of-type {\n",
       "        vertical-align: middle;\n",
       "    }\n",
       "\n",
       "    .dataframe tbody tr th {\n",
       "        vertical-align: top;\n",
       "    }\n",
       "\n",
       "    .dataframe thead th {\n",
       "        text-align: right;\n",
       "    }\n",
       "</style>\n",
       "<table border=\"1\" class=\"dataframe\">\n",
       "  <thead>\n",
       "    <tr style=\"text-align: right;\">\n",
       "      <th></th>\n",
       "      <th>Id</th>\n",
       "      <th>students name</th>\n",
       "      <th>dpt</th>\n",
       "      <th>cgpa</th>\n",
       "      <th>major</th>\n",
       "    </tr>\n",
       "  </thead>\n",
       "  <tbody>\n",
       "    <tr>\n",
       "      <th>one</th>\n",
       "      <td>10</td>\n",
       "      <td>farhan</td>\n",
       "      <td>cs</td>\n",
       "      <td>2.9</td>\n",
       "      <td>NaN</td>\n",
       "    </tr>\n",
       "    <tr>\n",
       "      <th>two</th>\n",
       "      <td>7</td>\n",
       "      <td>daud</td>\n",
       "      <td>cs</td>\n",
       "      <td>4.0</td>\n",
       "      <td>NaN</td>\n",
       "    </tr>\n",
       "    <tr>\n",
       "      <th>three</th>\n",
       "      <td>8</td>\n",
       "      <td>usama</td>\n",
       "      <td>cs</td>\n",
       "      <td>3.8</td>\n",
       "      <td>NaN</td>\n",
       "    </tr>\n",
       "    <tr>\n",
       "      <th>four</th>\n",
       "      <td>9</td>\n",
       "      <td>hafiz</td>\n",
       "      <td>cs</td>\n",
       "      <td>2.5</td>\n",
       "      <td>NaN</td>\n",
       "    </tr>\n",
       "    <tr>\n",
       "      <th>five</th>\n",
       "      <td>5</td>\n",
       "      <td>abdullah</td>\n",
       "      <td>cs</td>\n",
       "      <td>2.4</td>\n",
       "      <td>NaN</td>\n",
       "    </tr>\n",
       "  </tbody>\n",
       "</table>\n",
       "</div>"
      ],
      "text/plain": [
       "       Id students name dpt  cgpa major\n",
       "one    10        farhan  cs   2.9   NaN\n",
       "two     7          daud  cs   4.0   NaN\n",
       "three   8         usama  cs   3.8   NaN\n",
       "four    9         hafiz  cs   2.5   NaN\n",
       "five    5      abdullah  cs   2.4   NaN"
      ]
     },
     "execution_count": 123,
     "metadata": {},
     "output_type": "execute_result"
    }
   ],
   "source": [
    "frame2.head()"
   ]
  },
  {
   "cell_type": "code",
   "execution_count": 124,
   "id": "0a658900",
   "metadata": {},
   "outputs": [
    {
     "data": {
      "text/plain": [
       "Index(['Id', 'students name', 'dpt', 'cgpa', 'major'], dtype='object')"
      ]
     },
     "execution_count": 124,
     "metadata": {},
     "output_type": "execute_result"
    }
   ],
   "source": [
    "frame2.columns"
   ]
  },
  {
   "cell_type": "markdown",
   "id": "76ea51d1",
   "metadata": {},
   "source": [
    "# How to access data from data frames"
   ]
  },
  {
   "cell_type": "code",
   "execution_count": 125,
   "id": "fa012b7d",
   "metadata": {},
   "outputs": [],
   "source": [
    "#this is dictionary like notation to extract data"
   ]
  },
  {
   "cell_type": "code",
   "execution_count": 126,
   "id": "ea013f5e",
   "metadata": {},
   "outputs": [
    {
     "data": {
      "text/plain": [
       "[2.9, 4.0, 3.8, 2.5, 2.4, 3.0]"
      ]
     },
     "execution_count": 126,
     "metadata": {},
     "output_type": "execute_result"
    }
   ],
   "source": [
    "dict2[\"cgpa\"]"
   ]
  },
  {
   "cell_type": "code",
   "execution_count": 127,
   "id": "aaa71385",
   "metadata": {},
   "outputs": [
    {
     "data": {
      "text/plain": [
       "['cs', 'cs', 'cs', 'cs', 'cs', 'cs']"
      ]
     },
     "execution_count": 127,
     "metadata": {},
     "output_type": "execute_result"
    }
   ],
   "source": [
    "dict2[\"dpt\"]"
   ]
  },
  {
   "cell_type": "code",
   "execution_count": 128,
   "id": "fdb1fd91",
   "metadata": {},
   "outputs": [],
   "source": [
    "# another way to access data"
   ]
  },
  {
   "cell_type": "code",
   "execution_count": 129,
   "id": "bd6cfa6e",
   "metadata": {},
   "outputs": [
    {
     "data": {
      "text/plain": [
       "one      cs\n",
       "two      cs\n",
       "three    cs\n",
       "four     cs\n",
       "five     cs\n",
       "six      cs\n",
       "Name: dpt, dtype: object"
      ]
     },
     "execution_count": 129,
     "metadata": {},
     "output_type": "execute_result"
    }
   ],
   "source": [
    "frame2.dpt"
   ]
  },
  {
   "cell_type": "code",
   "execution_count": 130,
   "id": "2e1ce4d3",
   "metadata": {},
   "outputs": [
    {
     "data": {
      "text/plain": [
       "one      10\n",
       "two       7\n",
       "three     8\n",
       "four      9\n",
       "five      5\n",
       "six       3\n",
       "Name: Id, dtype: int64"
      ]
     },
     "execution_count": 130,
     "metadata": {},
     "output_type": "execute_result"
    }
   ],
   "source": [
    "frame2.Id"
   ]
  },
  {
   "cell_type": "code",
   "execution_count": 131,
   "id": "df02549a",
   "metadata": {},
   "outputs": [
    {
     "data": {
      "text/plain": [
       "Id                   10\n",
       "students name    farhan\n",
       "dpt                  cs\n",
       "cgpa                2.9\n",
       "major               NaN\n",
       "Name: one, dtype: object"
      ]
     },
     "execution_count": 131,
     "metadata": {},
     "output_type": "execute_result"
    }
   ],
   "source": [
    "#it will tell us the info whose present in the 1th index\n",
    "frame2.loc[\"one\"]"
   ]
  },
  {
   "cell_type": "code",
   "execution_count": 132,
   "id": "df7511da",
   "metadata": {},
   "outputs": [
    {
     "data": {
      "text/html": [
       "<div>\n",
       "<style scoped>\n",
       "    .dataframe tbody tr th:only-of-type {\n",
       "        vertical-align: middle;\n",
       "    }\n",
       "\n",
       "    .dataframe tbody tr th {\n",
       "        vertical-align: top;\n",
       "    }\n",
       "\n",
       "    .dataframe thead th {\n",
       "        text-align: right;\n",
       "    }\n",
       "</style>\n",
       "<table border=\"1\" class=\"dataframe\">\n",
       "  <thead>\n",
       "    <tr style=\"text-align: right;\">\n",
       "      <th></th>\n",
       "      <th>Id</th>\n",
       "      <th>students name</th>\n",
       "      <th>dpt</th>\n",
       "      <th>cgpa</th>\n",
       "      <th>major</th>\n",
       "    </tr>\n",
       "  </thead>\n",
       "  <tbody>\n",
       "    <tr>\n",
       "      <th>one</th>\n",
       "      <td>10</td>\n",
       "      <td>farhan</td>\n",
       "      <td>cs</td>\n",
       "      <td>2.9</td>\n",
       "      <td>NaN</td>\n",
       "    </tr>\n",
       "    <tr>\n",
       "      <th>two</th>\n",
       "      <td>7</td>\n",
       "      <td>daud</td>\n",
       "      <td>cs</td>\n",
       "      <td>4.0</td>\n",
       "      <td>NaN</td>\n",
       "    </tr>\n",
       "    <tr>\n",
       "      <th>three</th>\n",
       "      <td>8</td>\n",
       "      <td>usama</td>\n",
       "      <td>cs</td>\n",
       "      <td>3.8</td>\n",
       "      <td>NaN</td>\n",
       "    </tr>\n",
       "    <tr>\n",
       "      <th>four</th>\n",
       "      <td>9</td>\n",
       "      <td>hafiz</td>\n",
       "      <td>cs</td>\n",
       "      <td>2.5</td>\n",
       "      <td>NaN</td>\n",
       "    </tr>\n",
       "    <tr>\n",
       "      <th>five</th>\n",
       "      <td>5</td>\n",
       "      <td>abdullah</td>\n",
       "      <td>cs</td>\n",
       "      <td>2.4</td>\n",
       "      <td>NaN</td>\n",
       "    </tr>\n",
       "    <tr>\n",
       "      <th>six</th>\n",
       "      <td>3</td>\n",
       "      <td>subhan</td>\n",
       "      <td>cs</td>\n",
       "      <td>3.0</td>\n",
       "      <td>NaN</td>\n",
       "    </tr>\n",
       "  </tbody>\n",
       "</table>\n",
       "</div>"
      ],
      "text/plain": [
       "       Id students name dpt  cgpa major\n",
       "one    10        farhan  cs   2.9   NaN\n",
       "two     7          daud  cs   4.0   NaN\n",
       "three   8         usama  cs   3.8   NaN\n",
       "four    9         hafiz  cs   2.5   NaN\n",
       "five    5      abdullah  cs   2.4   NaN\n",
       "six     3        subhan  cs   3.0   NaN"
      ]
     },
     "execution_count": 132,
     "metadata": {},
     "output_type": "execute_result"
    }
   ],
   "source": [
    "frame2"
   ]
  },
  {
   "cell_type": "code",
   "execution_count": 133,
   "id": "09622368",
   "metadata": {},
   "outputs": [],
   "source": [
    "import numpy as np"
   ]
  },
  {
   "cell_type": "code",
   "execution_count": 134,
   "id": "d6552142",
   "metadata": {},
   "outputs": [],
   "source": [
    "ln=len(frame2)"
   ]
  },
  {
   "cell_type": "code",
   "execution_count": 135,
   "id": "2610dc73",
   "metadata": {},
   "outputs": [],
   "source": [
    "rng=np.arange(ln)"
   ]
  },
  {
   "cell_type": "code",
   "execution_count": 136,
   "id": "ff3e8e8e",
   "metadata": {},
   "outputs": [
    {
     "data": {
      "text/plain": [
       "array([0, 1, 2, 3, 4, 5])"
      ]
     },
     "execution_count": 136,
     "metadata": {},
     "output_type": "execute_result"
    }
   ],
   "source": [
    "rng"
   ]
  },
  {
   "cell_type": "code",
   "execution_count": 137,
   "id": "9bf3781b",
   "metadata": {},
   "outputs": [],
   "source": [
    "frame2[\"major\"]=rng"
   ]
  },
  {
   "cell_type": "code",
   "execution_count": 138,
   "id": "205c56d3",
   "metadata": {},
   "outputs": [
    {
     "data": {
      "text/html": [
       "<div>\n",
       "<style scoped>\n",
       "    .dataframe tbody tr th:only-of-type {\n",
       "        vertical-align: middle;\n",
       "    }\n",
       "\n",
       "    .dataframe tbody tr th {\n",
       "        vertical-align: top;\n",
       "    }\n",
       "\n",
       "    .dataframe thead th {\n",
       "        text-align: right;\n",
       "    }\n",
       "</style>\n",
       "<table border=\"1\" class=\"dataframe\">\n",
       "  <thead>\n",
       "    <tr style=\"text-align: right;\">\n",
       "      <th></th>\n",
       "      <th>Id</th>\n",
       "      <th>students name</th>\n",
       "      <th>dpt</th>\n",
       "      <th>cgpa</th>\n",
       "      <th>major</th>\n",
       "    </tr>\n",
       "  </thead>\n",
       "  <tbody>\n",
       "    <tr>\n",
       "      <th>one</th>\n",
       "      <td>10</td>\n",
       "      <td>farhan</td>\n",
       "      <td>cs</td>\n",
       "      <td>2.9</td>\n",
       "      <td>0</td>\n",
       "    </tr>\n",
       "    <tr>\n",
       "      <th>two</th>\n",
       "      <td>7</td>\n",
       "      <td>daud</td>\n",
       "      <td>cs</td>\n",
       "      <td>4.0</td>\n",
       "      <td>1</td>\n",
       "    </tr>\n",
       "    <tr>\n",
       "      <th>three</th>\n",
       "      <td>8</td>\n",
       "      <td>usama</td>\n",
       "      <td>cs</td>\n",
       "      <td>3.8</td>\n",
       "      <td>2</td>\n",
       "    </tr>\n",
       "    <tr>\n",
       "      <th>four</th>\n",
       "      <td>9</td>\n",
       "      <td>hafiz</td>\n",
       "      <td>cs</td>\n",
       "      <td>2.5</td>\n",
       "      <td>3</td>\n",
       "    </tr>\n",
       "    <tr>\n",
       "      <th>five</th>\n",
       "      <td>5</td>\n",
       "      <td>abdullah</td>\n",
       "      <td>cs</td>\n",
       "      <td>2.4</td>\n",
       "      <td>4</td>\n",
       "    </tr>\n",
       "    <tr>\n",
       "      <th>six</th>\n",
       "      <td>3</td>\n",
       "      <td>subhan</td>\n",
       "      <td>cs</td>\n",
       "      <td>3.0</td>\n",
       "      <td>5</td>\n",
       "    </tr>\n",
       "  </tbody>\n",
       "</table>\n",
       "</div>"
      ],
      "text/plain": [
       "       Id students name dpt  cgpa  major\n",
       "one    10        farhan  cs   2.9      0\n",
       "two     7          daud  cs   4.0      1\n",
       "three   8         usama  cs   3.8      2\n",
       "four    9         hafiz  cs   2.5      3\n",
       "five    5      abdullah  cs   2.4      4\n",
       "six     3        subhan  cs   3.0      5"
      ]
     },
     "execution_count": 138,
     "metadata": {},
     "output_type": "execute_result"
    }
   ],
   "source": [
    "frame2"
   ]
  },
  {
   "cell_type": "code",
   "execution_count": null,
   "id": "695cb55d",
   "metadata": {},
   "outputs": [],
   "source": []
  },
  {
   "cell_type": "code",
   "execution_count": null,
   "id": "635ef65e",
   "metadata": {},
   "outputs": [],
   "source": []
  }
 ],
 "metadata": {
  "kernelspec": {
   "display_name": "Python 3 (ipykernel)",
   "language": "python",
   "name": "python3"
  },
  "language_info": {
   "codemirror_mode": {
    "name": "ipython",
    "version": 3
   },
   "file_extension": ".py",
   "mimetype": "text/x-python",
   "name": "python",
   "nbconvert_exporter": "python",
   "pygments_lexer": "ipython3",
   "version": "3.9.7"
  }
 },
 "nbformat": 4,
 "nbformat_minor": 5
}
