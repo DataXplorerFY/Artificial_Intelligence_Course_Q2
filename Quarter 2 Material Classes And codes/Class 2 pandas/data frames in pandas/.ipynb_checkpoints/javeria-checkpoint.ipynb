{
 "cells": [
  {
   "cell_type": "markdown",
   "id": "6abc696e",
   "metadata": {},
   "source": [
    "# pandas tutorial\n"
   ]
  },
  {
   "cell_type": "markdown",
   "id": "80e0ec87",
   "metadata": {},
   "source": [
    "# Series\n"
   ]
  },
  {
   "cell_type": "markdown",
   "id": "b9123041",
   "metadata": {},
   "source": [
    "# Data Frame"
   ]
  },
  {
   "cell_type": "markdown",
   "id": "7406c225",
   "metadata": {},
   "source": [
    "# import necessary libraries"
   ]
  },
  {
   "cell_type": "code",
   "execution_count": 1,
   "id": "831a32bd",
   "metadata": {},
   "outputs": [],
   "source": [
    "import pandas as pd"
   ]
  },
  {
   "cell_type": "code",
   "execution_count": 2,
   "id": "6c62b7eb",
   "metadata": {},
   "outputs": [],
   "source": [
    "s1=pd.Series([1,2,3,4])"
   ]
  },
  {
   "cell_type": "code",
   "execution_count": 3,
   "id": "4027fa03",
   "metadata": {},
   "outputs": [
    {
     "data": {
      "text/plain": [
       "0    1\n",
       "1    2\n",
       "2    3\n",
       "3    4\n",
       "dtype: int64"
      ]
     },
     "execution_count": 3,
     "metadata": {},
     "output_type": "execute_result"
    }
   ],
   "source": [
    "s1"
   ]
  },
  {
   "cell_type": "code",
   "execution_count": 5,
   "id": "a939f6b5",
   "metadata": {},
   "outputs": [],
   "source": [
    "s2=pd.Series(['farhan','daud'])"
   ]
  },
  {
   "cell_type": "code",
   "execution_count": 6,
   "id": "74c27604",
   "metadata": {},
   "outputs": [
    {
     "data": {
      "text/plain": [
       "0    farhan\n",
       "1      daud\n",
       "dtype: object"
      ]
     },
     "execution_count": 6,
     "metadata": {},
     "output_type": "execute_result"
    }
   ],
   "source": [
    "s2"
   ]
  },
  {
   "cell_type": "code",
   "execution_count": 15,
   "id": "42fad7cd",
   "metadata": {},
   "outputs": [],
   "source": [
    "names=pd.Series([6562,6563,7766,8977,2456],index=['farhan','daud','minhal','hafiz','mahira'],name='class_data')"
   ]
  },
  {
   "cell_type": "code",
   "execution_count": 16,
   "id": "1e908e4b",
   "metadata": {},
   "outputs": [
    {
     "data": {
      "text/plain": [
       "farhan    6562\n",
       "daud      6563\n",
       "minhal    7766\n",
       "hafiz     8977\n",
       "mahira    2456\n",
       "Name: class_data, dtype: int64"
      ]
     },
     "execution_count": 16,
     "metadata": {},
     "output_type": "execute_result"
    }
   ],
   "source": [
    "names"
   ]
  },
  {
   "cell_type": "code",
   "execution_count": 17,
   "id": "98a0db3d",
   "metadata": {},
   "outputs": [],
   "source": [
    "Canteen_data=pd.Series([10,20,30,40,10,35,50],index=['Monday','Tuesday','Wednesday','Thursday','Friday','Saturday','Sunday'],name=\"7 Days Canteen Data\")"
   ]
  },
  {
   "cell_type": "code",
   "execution_count": 18,
   "id": "71e56fba",
   "metadata": {},
   "outputs": [
    {
     "data": {
      "text/plain": [
       "Monday       10\n",
       "Tuesday      20\n",
       "Wednesday    30\n",
       "Thursday     40\n",
       "Friday       10\n",
       "Saturday     35\n",
       "Sunday       50\n",
       "Name: 7 Days Canteen Data, dtype: int64"
      ]
     },
     "execution_count": 18,
     "metadata": {},
     "output_type": "execute_result"
    }
   ],
   "source": [
    "Canteen_data"
   ]
  },
  {
   "cell_type": "code",
   "execution_count": 20,
   "id": "12b9f7bd",
   "metadata": {},
   "outputs": [
    {
     "data": {
      "text/plain": [
       "30"
      ]
     },
     "execution_count": 20,
     "metadata": {},
     "output_type": "execute_result"
    }
   ],
   "source": [
    "Canteen_data[2]"
   ]
  },
  {
   "cell_type": "code",
   "execution_count": 23,
   "id": "c4e7363c",
   "metadata": {},
   "outputs": [
    {
     "data": {
      "text/plain": [
       "50"
      ]
     },
     "execution_count": 23,
     "metadata": {},
     "output_type": "execute_result"
    }
   ],
   "source": [
    "Canteen_data[6]"
   ]
  },
  {
   "cell_type": "code",
   "execution_count": 25,
   "id": "2bd3be31",
   "metadata": {},
   "outputs": [
    {
     "data": {
      "text/plain": [
       "30"
      ]
     },
     "execution_count": 25,
     "metadata": {},
     "output_type": "execute_result"
    }
   ],
   "source": [
    "Canteen_data['Wednesday']"
   ]
  },
  {
   "cell_type": "code",
   "execution_count": 26,
   "id": "b2b6ef57",
   "metadata": {},
   "outputs": [
    {
     "data": {
      "text/plain": [
       "Thursday    40\n",
       "Saturday    35\n",
       "Friday      10\n",
       "Name: 7 Days Canteen Data, dtype: int64"
      ]
     },
     "execution_count": 26,
     "metadata": {},
     "output_type": "execute_result"
    }
   ],
   "source": [
    "Canteen_data[[3,5,4]]"
   ]
  },
  {
   "cell_type": "code",
   "execution_count": 31,
   "id": "e40f7f12",
   "metadata": {},
   "outputs": [],
   "source": [
    "Canteen_data['Monday']=10"
   ]
  },
  {
   "cell_type": "code",
   "execution_count": 32,
   "id": "e66bce08",
   "metadata": {},
   "outputs": [
    {
     "data": {
      "text/plain": [
       "Monday       10\n",
       "Tuesday      20\n",
       "Wednesday    30\n",
       "Thursday     40\n",
       "Friday       10\n",
       "Saturday     35\n",
       "Sunday       50\n",
       "Name: 7 Days Canteen Data, dtype: object"
      ]
     },
     "execution_count": 32,
     "metadata": {},
     "output_type": "execute_result"
    }
   ],
   "source": [
    "Canteen_data"
   ]
  },
  {
   "cell_type": "code",
   "execution_count": 33,
   "id": "c942f4b8",
   "metadata": {},
   "outputs": [
    {
     "data": {
      "text/plain": [
       "Monday        20\n",
       "Tuesday       40\n",
       "Wednesday     60\n",
       "Thursday      80\n",
       "Friday        20\n",
       "Saturday      70\n",
       "Sunday       100\n",
       "Name: 7 Days Canteen Data, dtype: object"
      ]
     },
     "execution_count": 33,
     "metadata": {},
     "output_type": "execute_result"
    }
   ],
   "source": [
    "Canteen_data*2"
   ]
  },
  {
   "cell_type": "code",
   "execution_count": 34,
   "id": "4305d56a",
   "metadata": {},
   "outputs": [
    {
     "data": {
      "text/plain": [
       "Wednesday    30\n",
       "Thursday     40\n",
       "Saturday     35\n",
       "Sunday       50\n",
       "Name: 7 Days Canteen Data, dtype: object"
      ]
     },
     "execution_count": 34,
     "metadata": {},
     "output_type": "execute_result"
    }
   ],
   "source": [
    "Canteen_data[Canteen_data>20]"
   ]
  },
  {
   "cell_type": "markdown",
   "id": "f5b786a9",
   "metadata": {},
   "source": [
    "# DATA FRAMES"
   ]
  },
  {
   "cell_type": "code",
   "execution_count": 43,
   "id": "cdad368a",
   "metadata": {},
   "outputs": [],
   "source": [
    "Names=pd.Series(['Farhan','Daud','Minhaal','Hafiz'])"
   ]
  },
  {
   "cell_type": "code",
   "execution_count": 44,
   "id": "a405ccca",
   "metadata": {},
   "outputs": [
    {
     "data": {
      "text/plain": [
       "0     Farhan\n",
       "1       Daud\n",
       "2    Minhaal\n",
       "3      Hafiz\n",
       "dtype: object"
      ]
     },
     "execution_count": 44,
     "metadata": {},
     "output_type": "execute_result"
    }
   ],
   "source": [
    "Names"
   ]
  },
  {
   "cell_type": "code",
   "execution_count": 45,
   "id": "a3c5f343",
   "metadata": {},
   "outputs": [],
   "source": [
    "Roll=pd.Series([6562,6563,6523,6548])"
   ]
  },
  {
   "cell_type": "code",
   "execution_count": 46,
   "id": "5ad1fde0",
   "metadata": {},
   "outputs": [
    {
     "data": {
      "text/plain": [
       "0    6562\n",
       "1    6563\n",
       "2    6523\n",
       "3    6548\n",
       "dtype: int64"
      ]
     },
     "execution_count": 46,
     "metadata": {},
     "output_type": "execute_result"
    }
   ],
   "source": [
    "Roll"
   ]
  },
  {
   "cell_type": "code",
   "execution_count": 47,
   "id": "9631dae3",
   "metadata": {},
   "outputs": [],
   "source": [
    "Dict={\"Names\": Names,\n",
    "     \"Roll\": Roll}"
   ]
  },
  {
   "cell_type": "code",
   "execution_count": 52,
   "id": "a859fc38",
   "metadata": {},
   "outputs": [],
   "source": [
    "df=pd.DataFrame(Dict)\n"
   ]
  },
  {
   "cell_type": "code",
   "execution_count": 53,
   "id": "47578987",
   "metadata": {},
   "outputs": [
    {
     "data": {
      "text/html": [
       "<div>\n",
       "<style scoped>\n",
       "    .dataframe tbody tr th:only-of-type {\n",
       "        vertical-align: middle;\n",
       "    }\n",
       "\n",
       "    .dataframe tbody tr th {\n",
       "        vertical-align: top;\n",
       "    }\n",
       "\n",
       "    .dataframe thead th {\n",
       "        text-align: right;\n",
       "    }\n",
       "</style>\n",
       "<table border=\"1\" class=\"dataframe\">\n",
       "  <thead>\n",
       "    <tr style=\"text-align: right;\">\n",
       "      <th></th>\n",
       "      <th>Names</th>\n",
       "      <th>Roll</th>\n",
       "    </tr>\n",
       "  </thead>\n",
       "  <tbody>\n",
       "    <tr>\n",
       "      <th>0</th>\n",
       "      <td>Farhan</td>\n",
       "      <td>6562</td>\n",
       "    </tr>\n",
       "    <tr>\n",
       "      <th>1</th>\n",
       "      <td>Daud</td>\n",
       "      <td>6563</td>\n",
       "    </tr>\n",
       "    <tr>\n",
       "      <th>2</th>\n",
       "      <td>Minhaal</td>\n",
       "      <td>6523</td>\n",
       "    </tr>\n",
       "    <tr>\n",
       "      <th>3</th>\n",
       "      <td>Hafiz</td>\n",
       "      <td>6548</td>\n",
       "    </tr>\n",
       "  </tbody>\n",
       "</table>\n",
       "</div>"
      ],
      "text/plain": [
       "     Names  Roll\n",
       "0   Farhan  6562\n",
       "1     Daud  6563\n",
       "2  Minhaal  6523\n",
       "3    Hafiz  6548"
      ]
     },
     "execution_count": 53,
     "metadata": {},
     "output_type": "execute_result"
    }
   ],
   "source": [
    "df"
   ]
  },
  {
   "cell_type": "code",
   "execution_count": 55,
   "id": "55ca3159",
   "metadata": {},
   "outputs": [],
   "source": [
    "dict2={\"Names\":['Farhan','javeria','daud','hafiz','ali','yashal','arooj','zoya','faiza'],\n",
    "      \"Roll\":[65,78,98,78,60,67,98,28,78],\n",
    "      \"city\":['lhr','lhr','fsd','fsd','khi','isb','guj','jhang','lhr']}"
   ]
  },
  {
   "cell_type": "code",
   "execution_count": 56,
   "id": "7e772392",
   "metadata": {},
   "outputs": [],
   "source": [
    "df=pd.DataFrame(dict2)"
   ]
  },
  {
   "cell_type": "code",
   "execution_count": 57,
   "id": "f57244fb",
   "metadata": {},
   "outputs": [
    {
     "data": {
      "text/html": [
       "<div>\n",
       "<style scoped>\n",
       "    .dataframe tbody tr th:only-of-type {\n",
       "        vertical-align: middle;\n",
       "    }\n",
       "\n",
       "    .dataframe tbody tr th {\n",
       "        vertical-align: top;\n",
       "    }\n",
       "\n",
       "    .dataframe thead th {\n",
       "        text-align: right;\n",
       "    }\n",
       "</style>\n",
       "<table border=\"1\" class=\"dataframe\">\n",
       "  <thead>\n",
       "    <tr style=\"text-align: right;\">\n",
       "      <th></th>\n",
       "      <th>Names</th>\n",
       "      <th>Roll</th>\n",
       "      <th>city</th>\n",
       "    </tr>\n",
       "  </thead>\n",
       "  <tbody>\n",
       "    <tr>\n",
       "      <th>0</th>\n",
       "      <td>Farhan</td>\n",
       "      <td>65</td>\n",
       "      <td>lhr</td>\n",
       "    </tr>\n",
       "    <tr>\n",
       "      <th>1</th>\n",
       "      <td>javeria</td>\n",
       "      <td>78</td>\n",
       "      <td>lhr</td>\n",
       "    </tr>\n",
       "    <tr>\n",
       "      <th>2</th>\n",
       "      <td>daud</td>\n",
       "      <td>98</td>\n",
       "      <td>fsd</td>\n",
       "    </tr>\n",
       "    <tr>\n",
       "      <th>3</th>\n",
       "      <td>hafiz</td>\n",
       "      <td>78</td>\n",
       "      <td>fsd</td>\n",
       "    </tr>\n",
       "    <tr>\n",
       "      <th>4</th>\n",
       "      <td>ali</td>\n",
       "      <td>60</td>\n",
       "      <td>khi</td>\n",
       "    </tr>\n",
       "    <tr>\n",
       "      <th>5</th>\n",
       "      <td>yashal</td>\n",
       "      <td>67</td>\n",
       "      <td>isb</td>\n",
       "    </tr>\n",
       "    <tr>\n",
       "      <th>6</th>\n",
       "      <td>arooj</td>\n",
       "      <td>98</td>\n",
       "      <td>guj</td>\n",
       "    </tr>\n",
       "    <tr>\n",
       "      <th>7</th>\n",
       "      <td>zoya</td>\n",
       "      <td>28</td>\n",
       "      <td>jhang</td>\n",
       "    </tr>\n",
       "    <tr>\n",
       "      <th>8</th>\n",
       "      <td>faiza</td>\n",
       "      <td>78</td>\n",
       "      <td>lhr</td>\n",
       "    </tr>\n",
       "  </tbody>\n",
       "</table>\n",
       "</div>"
      ],
      "text/plain": [
       "     Names  Roll   city\n",
       "0   Farhan    65    lhr\n",
       "1  javeria    78    lhr\n",
       "2     daud    98    fsd\n",
       "3    hafiz    78    fsd\n",
       "4      ali    60    khi\n",
       "5   yashal    67    isb\n",
       "6    arooj    98    guj\n",
       "7     zoya    28  jhang\n",
       "8    faiza    78    lhr"
      ]
     },
     "execution_count": 57,
     "metadata": {},
     "output_type": "execute_result"
    }
   ],
   "source": [
    "df"
   ]
  },
  {
   "cell_type": "code",
   "execution_count": 59,
   "id": "67286d29",
   "metadata": {},
   "outputs": [
    {
     "data": {
      "text/html": [
       "<div>\n",
       "<style scoped>\n",
       "    .dataframe tbody tr th:only-of-type {\n",
       "        vertical-align: middle;\n",
       "    }\n",
       "\n",
       "    .dataframe tbody tr th {\n",
       "        vertical-align: top;\n",
       "    }\n",
       "\n",
       "    .dataframe thead th {\n",
       "        text-align: right;\n",
       "    }\n",
       "</style>\n",
       "<table border=\"1\" class=\"dataframe\">\n",
       "  <thead>\n",
       "    <tr style=\"text-align: right;\">\n",
       "      <th></th>\n",
       "      <th>Names</th>\n",
       "      <th>Roll</th>\n",
       "      <th>city</th>\n",
       "    </tr>\n",
       "  </thead>\n",
       "  <tbody>\n",
       "    <tr>\n",
       "      <th>0</th>\n",
       "      <td>Farhan</td>\n",
       "      <td>65</td>\n",
       "      <td>lhr</td>\n",
       "    </tr>\n",
       "    <tr>\n",
       "      <th>1</th>\n",
       "      <td>javeria</td>\n",
       "      <td>78</td>\n",
       "      <td>lhr</td>\n",
       "    </tr>\n",
       "    <tr>\n",
       "      <th>2</th>\n",
       "      <td>daud</td>\n",
       "      <td>98</td>\n",
       "      <td>fsd</td>\n",
       "    </tr>\n",
       "    <tr>\n",
       "      <th>3</th>\n",
       "      <td>hafiz</td>\n",
       "      <td>78</td>\n",
       "      <td>fsd</td>\n",
       "    </tr>\n",
       "    <tr>\n",
       "      <th>4</th>\n",
       "      <td>ali</td>\n",
       "      <td>60</td>\n",
       "      <td>khi</td>\n",
       "    </tr>\n",
       "    <tr>\n",
       "      <th>5</th>\n",
       "      <td>yashal</td>\n",
       "      <td>67</td>\n",
       "      <td>isb</td>\n",
       "    </tr>\n",
       "  </tbody>\n",
       "</table>\n",
       "</div>"
      ],
      "text/plain": [
       "     Names  Roll city\n",
       "0   Farhan    65  lhr\n",
       "1  javeria    78  lhr\n",
       "2     daud    98  fsd\n",
       "3    hafiz    78  fsd\n",
       "4      ali    60  khi\n",
       "5   yashal    67  isb"
      ]
     },
     "execution_count": 59,
     "metadata": {},
     "output_type": "execute_result"
    }
   ],
   "source": [
    "df.head(6)"
   ]
  },
  {
   "cell_type": "code",
   "execution_count": 61,
   "id": "eddc5e0c",
   "metadata": {},
   "outputs": [
    {
     "data": {
      "text/html": [
       "<div>\n",
       "<style scoped>\n",
       "    .dataframe tbody tr th:only-of-type {\n",
       "        vertical-align: middle;\n",
       "    }\n",
       "\n",
       "    .dataframe tbody tr th {\n",
       "        vertical-align: top;\n",
       "    }\n",
       "\n",
       "    .dataframe thead th {\n",
       "        text-align: right;\n",
       "    }\n",
       "</style>\n",
       "<table border=\"1\" class=\"dataframe\">\n",
       "  <thead>\n",
       "    <tr style=\"text-align: right;\">\n",
       "      <th></th>\n",
       "      <th>Names</th>\n",
       "      <th>Roll</th>\n",
       "      <th>city</th>\n",
       "    </tr>\n",
       "  </thead>\n",
       "  <tbody>\n",
       "    <tr>\n",
       "      <th>4</th>\n",
       "      <td>ali</td>\n",
       "      <td>60</td>\n",
       "      <td>khi</td>\n",
       "    </tr>\n",
       "    <tr>\n",
       "      <th>5</th>\n",
       "      <td>yashal</td>\n",
       "      <td>67</td>\n",
       "      <td>isb</td>\n",
       "    </tr>\n",
       "    <tr>\n",
       "      <th>6</th>\n",
       "      <td>arooj</td>\n",
       "      <td>98</td>\n",
       "      <td>guj</td>\n",
       "    </tr>\n",
       "    <tr>\n",
       "      <th>7</th>\n",
       "      <td>zoya</td>\n",
       "      <td>28</td>\n",
       "      <td>jhang</td>\n",
       "    </tr>\n",
       "    <tr>\n",
       "      <th>8</th>\n",
       "      <td>faiza</td>\n",
       "      <td>78</td>\n",
       "      <td>lhr</td>\n",
       "    </tr>\n",
       "  </tbody>\n",
       "</table>\n",
       "</div>"
      ],
      "text/plain": [
       "    Names  Roll   city\n",
       "4     ali    60    khi\n",
       "5  yashal    67    isb\n",
       "6   arooj    98    guj\n",
       "7    zoya    28  jhang\n",
       "8   faiza    78    lhr"
      ]
     },
     "execution_count": 61,
     "metadata": {},
     "output_type": "execute_result"
    }
   ],
   "source": [
    "df.tail()"
   ]
  },
  {
   "cell_type": "code",
   "execution_count": 62,
   "id": "5c8071a2",
   "metadata": {},
   "outputs": [
    {
     "data": {
      "text/plain": [
       "(9, 3)"
      ]
     },
     "execution_count": 62,
     "metadata": {},
     "output_type": "execute_result"
    }
   ],
   "source": [
    "df.shape"
   ]
  },
  {
   "cell_type": "code",
   "execution_count": 63,
   "id": "ac7ec889",
   "metadata": {},
   "outputs": [
    {
     "data": {
      "text/plain": [
       "27"
      ]
     },
     "execution_count": 63,
     "metadata": {},
     "output_type": "execute_result"
    }
   ],
   "source": [
    "df.size"
   ]
  },
  {
   "cell_type": "code",
   "execution_count": 64,
   "id": "255bb246",
   "metadata": {},
   "outputs": [
    {
     "data": {
      "text/html": [
       "<div>\n",
       "<style scoped>\n",
       "    .dataframe tbody tr th:only-of-type {\n",
       "        vertical-align: middle;\n",
       "    }\n",
       "\n",
       "    .dataframe tbody tr th {\n",
       "        vertical-align: top;\n",
       "    }\n",
       "\n",
       "    .dataframe thead th {\n",
       "        text-align: right;\n",
       "    }\n",
       "</style>\n",
       "<table border=\"1\" class=\"dataframe\">\n",
       "  <thead>\n",
       "    <tr style=\"text-align: right;\">\n",
       "      <th></th>\n",
       "      <th>Names</th>\n",
       "      <th>Roll</th>\n",
       "      <th>city</th>\n",
       "    </tr>\n",
       "  </thead>\n",
       "  <tbody>\n",
       "    <tr>\n",
       "      <th>8</th>\n",
       "      <td>faiza</td>\n",
       "      <td>78</td>\n",
       "      <td>lhr</td>\n",
       "    </tr>\n",
       "    <tr>\n",
       "      <th>7</th>\n",
       "      <td>zoya</td>\n",
       "      <td>28</td>\n",
       "      <td>jhang</td>\n",
       "    </tr>\n",
       "    <tr>\n",
       "      <th>1</th>\n",
       "      <td>javeria</td>\n",
       "      <td>78</td>\n",
       "      <td>lhr</td>\n",
       "    </tr>\n",
       "  </tbody>\n",
       "</table>\n",
       "</div>"
      ],
      "text/plain": [
       "     Names  Roll   city\n",
       "8    faiza    78    lhr\n",
       "7     zoya    28  jhang\n",
       "1  javeria    78    lhr"
      ]
     },
     "execution_count": 64,
     "metadata": {},
     "output_type": "execute_result"
    }
   ],
   "source": [
    "df.sample(3)"
   ]
  },
  {
   "cell_type": "code",
   "execution_count": 65,
   "id": "30d9ae18",
   "metadata": {},
   "outputs": [
    {
     "data": {
      "text/plain": [
       "Index(['Names', 'Roll', 'city'], dtype='object')"
      ]
     },
     "execution_count": 65,
     "metadata": {},
     "output_type": "execute_result"
    }
   ],
   "source": [
    "df.columns"
   ]
  },
  {
   "cell_type": "code",
   "execution_count": 67,
   "id": "ab0457ea",
   "metadata": {},
   "outputs": [
    {
     "data": {
      "text/plain": [
       "<bound method DataFrame.info of      Names  Roll   city\n",
       "0   Farhan    65    lhr\n",
       "1  javeria    78    lhr\n",
       "2     daud    98    fsd\n",
       "3    hafiz    78    fsd\n",
       "4      ali    60    khi\n",
       "5   yashal    67    isb\n",
       "6    arooj    98    guj\n",
       "7     zoya    28  jhang\n",
       "8    faiza    78    lhr>"
      ]
     },
     "execution_count": 67,
     "metadata": {},
     "output_type": "execute_result"
    }
   ],
   "source": [
    "df.info"
   ]
  },
  {
   "cell_type": "code",
   "execution_count": 68,
   "id": "3e615060",
   "metadata": {},
   "outputs": [
    {
     "data": {
      "text/html": [
       "<div>\n",
       "<style scoped>\n",
       "    .dataframe tbody tr th:only-of-type {\n",
       "        vertical-align: middle;\n",
       "    }\n",
       "\n",
       "    .dataframe tbody tr th {\n",
       "        vertical-align: top;\n",
       "    }\n",
       "\n",
       "    .dataframe thead th {\n",
       "        text-align: right;\n",
       "    }\n",
       "</style>\n",
       "<table border=\"1\" class=\"dataframe\">\n",
       "  <thead>\n",
       "    <tr style=\"text-align: right;\">\n",
       "      <th></th>\n",
       "      <th>Names</th>\n",
       "      <th>Roll</th>\n",
       "      <th>city</th>\n",
       "    </tr>\n",
       "  </thead>\n",
       "  <tbody>\n",
       "    <tr>\n",
       "      <th>0</th>\n",
       "      <td>Farhan</td>\n",
       "      <td>65</td>\n",
       "      <td>lhr</td>\n",
       "    </tr>\n",
       "    <tr>\n",
       "      <th>1</th>\n",
       "      <td>javeria</td>\n",
       "      <td>78</td>\n",
       "      <td>lhr</td>\n",
       "    </tr>\n",
       "    <tr>\n",
       "      <th>2</th>\n",
       "      <td>daud</td>\n",
       "      <td>98</td>\n",
       "      <td>fsd</td>\n",
       "    </tr>\n",
       "    <tr>\n",
       "      <th>3</th>\n",
       "      <td>hafiz</td>\n",
       "      <td>78</td>\n",
       "      <td>fsd</td>\n",
       "    </tr>\n",
       "    <tr>\n",
       "      <th>4</th>\n",
       "      <td>ali</td>\n",
       "      <td>60</td>\n",
       "      <td>khi</td>\n",
       "    </tr>\n",
       "    <tr>\n",
       "      <th>5</th>\n",
       "      <td>yashal</td>\n",
       "      <td>67</td>\n",
       "      <td>isb</td>\n",
       "    </tr>\n",
       "    <tr>\n",
       "      <th>6</th>\n",
       "      <td>arooj</td>\n",
       "      <td>98</td>\n",
       "      <td>guj</td>\n",
       "    </tr>\n",
       "    <tr>\n",
       "      <th>7</th>\n",
       "      <td>zoya</td>\n",
       "      <td>28</td>\n",
       "      <td>jhang</td>\n",
       "    </tr>\n",
       "    <tr>\n",
       "      <th>8</th>\n",
       "      <td>faiza</td>\n",
       "      <td>78</td>\n",
       "      <td>lhr</td>\n",
       "    </tr>\n",
       "  </tbody>\n",
       "</table>\n",
       "</div>"
      ],
      "text/plain": [
       "     Names  Roll   city\n",
       "0   Farhan    65    lhr\n",
       "1  javeria    78    lhr\n",
       "2     daud    98    fsd\n",
       "3    hafiz    78    fsd\n",
       "4      ali    60    khi\n",
       "5   yashal    67    isb\n",
       "6    arooj    98    guj\n",
       "7     zoya    28  jhang\n",
       "8    faiza    78    lhr"
      ]
     },
     "execution_count": 68,
     "metadata": {},
     "output_type": "execute_result"
    }
   ],
   "source": [
    "df"
   ]
  },
  {
   "cell_type": "code",
   "execution_count": 69,
   "id": "0085e3c0",
   "metadata": {},
   "outputs": [
    {
     "data": {
      "text/plain": [
       "0     Farhan\n",
       "1    javeria\n",
       "2       daud\n",
       "3      hafiz\n",
       "4        ali\n",
       "5     yashal\n",
       "6      arooj\n",
       "7       zoya\n",
       "8      faiza\n",
       "Name: Names, dtype: object"
      ]
     },
     "execution_count": 69,
     "metadata": {},
     "output_type": "execute_result"
    }
   ],
   "source": [
    "df['Names']"
   ]
  },
  {
   "cell_type": "code",
   "execution_count": 70,
   "id": "0b895001",
   "metadata": {},
   "outputs": [],
   "source": [
    "df['country']='Pakistan'"
   ]
  },
  {
   "cell_type": "code",
   "execution_count": 71,
   "id": "60e5825b",
   "metadata": {},
   "outputs": [
    {
     "data": {
      "text/html": [
       "<div>\n",
       "<style scoped>\n",
       "    .dataframe tbody tr th:only-of-type {\n",
       "        vertical-align: middle;\n",
       "    }\n",
       "\n",
       "    .dataframe tbody tr th {\n",
       "        vertical-align: top;\n",
       "    }\n",
       "\n",
       "    .dataframe thead th {\n",
       "        text-align: right;\n",
       "    }\n",
       "</style>\n",
       "<table border=\"1\" class=\"dataframe\">\n",
       "  <thead>\n",
       "    <tr style=\"text-align: right;\">\n",
       "      <th></th>\n",
       "      <th>Names</th>\n",
       "      <th>Roll</th>\n",
       "      <th>city</th>\n",
       "      <th>country</th>\n",
       "    </tr>\n",
       "  </thead>\n",
       "  <tbody>\n",
       "    <tr>\n",
       "      <th>0</th>\n",
       "      <td>Farhan</td>\n",
       "      <td>65</td>\n",
       "      <td>lhr</td>\n",
       "      <td>Pakistan</td>\n",
       "    </tr>\n",
       "    <tr>\n",
       "      <th>1</th>\n",
       "      <td>javeria</td>\n",
       "      <td>78</td>\n",
       "      <td>lhr</td>\n",
       "      <td>Pakistan</td>\n",
       "    </tr>\n",
       "    <tr>\n",
       "      <th>2</th>\n",
       "      <td>daud</td>\n",
       "      <td>98</td>\n",
       "      <td>fsd</td>\n",
       "      <td>Pakistan</td>\n",
       "    </tr>\n",
       "    <tr>\n",
       "      <th>3</th>\n",
       "      <td>hafiz</td>\n",
       "      <td>78</td>\n",
       "      <td>fsd</td>\n",
       "      <td>Pakistan</td>\n",
       "    </tr>\n",
       "    <tr>\n",
       "      <th>4</th>\n",
       "      <td>ali</td>\n",
       "      <td>60</td>\n",
       "      <td>khi</td>\n",
       "      <td>Pakistan</td>\n",
       "    </tr>\n",
       "    <tr>\n",
       "      <th>5</th>\n",
       "      <td>yashal</td>\n",
       "      <td>67</td>\n",
       "      <td>isb</td>\n",
       "      <td>Pakistan</td>\n",
       "    </tr>\n",
       "    <tr>\n",
       "      <th>6</th>\n",
       "      <td>arooj</td>\n",
       "      <td>98</td>\n",
       "      <td>guj</td>\n",
       "      <td>Pakistan</td>\n",
       "    </tr>\n",
       "    <tr>\n",
       "      <th>7</th>\n",
       "      <td>zoya</td>\n",
       "      <td>28</td>\n",
       "      <td>jhang</td>\n",
       "      <td>Pakistan</td>\n",
       "    </tr>\n",
       "    <tr>\n",
       "      <th>8</th>\n",
       "      <td>faiza</td>\n",
       "      <td>78</td>\n",
       "      <td>lhr</td>\n",
       "      <td>Pakistan</td>\n",
       "    </tr>\n",
       "  </tbody>\n",
       "</table>\n",
       "</div>"
      ],
      "text/plain": [
       "     Names  Roll   city   country\n",
       "0   Farhan    65    lhr  Pakistan\n",
       "1  javeria    78    lhr  Pakistan\n",
       "2     daud    98    fsd  Pakistan\n",
       "3    hafiz    78    fsd  Pakistan\n",
       "4      ali    60    khi  Pakistan\n",
       "5   yashal    67    isb  Pakistan\n",
       "6    arooj    98    guj  Pakistan\n",
       "7     zoya    28  jhang  Pakistan\n",
       "8    faiza    78    lhr  Pakistan"
      ]
     },
     "execution_count": 71,
     "metadata": {},
     "output_type": "execute_result"
    }
   ],
   "source": [
    "df"
   ]
  },
  {
   "cell_type": "code",
   "execution_count": 72,
   "id": "0184c440",
   "metadata": {},
   "outputs": [],
   "source": [
    "df['country']=['Pakistan','canada','sedney','autrailia','uk','paris','turkey','korea','india']"
   ]
  },
  {
   "cell_type": "code",
   "execution_count": 73,
   "id": "56b633ee",
   "metadata": {},
   "outputs": [
    {
     "data": {
      "text/html": [
       "<div>\n",
       "<style scoped>\n",
       "    .dataframe tbody tr th:only-of-type {\n",
       "        vertical-align: middle;\n",
       "    }\n",
       "\n",
       "    .dataframe tbody tr th {\n",
       "        vertical-align: top;\n",
       "    }\n",
       "\n",
       "    .dataframe thead th {\n",
       "        text-align: right;\n",
       "    }\n",
       "</style>\n",
       "<table border=\"1\" class=\"dataframe\">\n",
       "  <thead>\n",
       "    <tr style=\"text-align: right;\">\n",
       "      <th></th>\n",
       "      <th>Names</th>\n",
       "      <th>Roll</th>\n",
       "      <th>city</th>\n",
       "      <th>country</th>\n",
       "    </tr>\n",
       "  </thead>\n",
       "  <tbody>\n",
       "    <tr>\n",
       "      <th>0</th>\n",
       "      <td>Farhan</td>\n",
       "      <td>65</td>\n",
       "      <td>lhr</td>\n",
       "      <td>Pakistan</td>\n",
       "    </tr>\n",
       "    <tr>\n",
       "      <th>1</th>\n",
       "      <td>javeria</td>\n",
       "      <td>78</td>\n",
       "      <td>lhr</td>\n",
       "      <td>canada</td>\n",
       "    </tr>\n",
       "    <tr>\n",
       "      <th>2</th>\n",
       "      <td>daud</td>\n",
       "      <td>98</td>\n",
       "      <td>fsd</td>\n",
       "      <td>sedney</td>\n",
       "    </tr>\n",
       "    <tr>\n",
       "      <th>3</th>\n",
       "      <td>hafiz</td>\n",
       "      <td>78</td>\n",
       "      <td>fsd</td>\n",
       "      <td>autrailia</td>\n",
       "    </tr>\n",
       "    <tr>\n",
       "      <th>4</th>\n",
       "      <td>ali</td>\n",
       "      <td>60</td>\n",
       "      <td>khi</td>\n",
       "      <td>uk</td>\n",
       "    </tr>\n",
       "    <tr>\n",
       "      <th>5</th>\n",
       "      <td>yashal</td>\n",
       "      <td>67</td>\n",
       "      <td>isb</td>\n",
       "      <td>paris</td>\n",
       "    </tr>\n",
       "    <tr>\n",
       "      <th>6</th>\n",
       "      <td>arooj</td>\n",
       "      <td>98</td>\n",
       "      <td>guj</td>\n",
       "      <td>turkey</td>\n",
       "    </tr>\n",
       "    <tr>\n",
       "      <th>7</th>\n",
       "      <td>zoya</td>\n",
       "      <td>28</td>\n",
       "      <td>jhang</td>\n",
       "      <td>korea</td>\n",
       "    </tr>\n",
       "    <tr>\n",
       "      <th>8</th>\n",
       "      <td>faiza</td>\n",
       "      <td>78</td>\n",
       "      <td>lhr</td>\n",
       "      <td>india</td>\n",
       "    </tr>\n",
       "  </tbody>\n",
       "</table>\n",
       "</div>"
      ],
      "text/plain": [
       "     Names  Roll   city    country\n",
       "0   Farhan    65    lhr   Pakistan\n",
       "1  javeria    78    lhr     canada\n",
       "2     daud    98    fsd     sedney\n",
       "3    hafiz    78    fsd  autrailia\n",
       "4      ali    60    khi         uk\n",
       "5   yashal    67    isb      paris\n",
       "6    arooj    98    guj     turkey\n",
       "7     zoya    28  jhang      korea\n",
       "8    faiza    78    lhr      india"
      ]
     },
     "execution_count": 73,
     "metadata": {},
     "output_type": "execute_result"
    }
   ],
   "source": [
    "df"
   ]
  },
  {
   "cell_type": "code",
   "execution_count": null,
   "id": "b6488845",
   "metadata": {},
   "outputs": [],
   "source": []
  },
  {
   "cell_type": "code",
   "execution_count": null,
   "id": "f763c8b3",
   "metadata": {},
   "outputs": [],
   "source": []
  }
 ],
 "metadata": {
  "kernelspec": {
   "display_name": "Python 3 (ipykernel)",
   "language": "python",
   "name": "python3"
  },
  "language_info": {
   "codemirror_mode": {
    "name": "ipython",
    "version": 3
   },
   "file_extension": ".py",
   "mimetype": "text/x-python",
   "name": "python",
   "nbconvert_exporter": "python",
   "pygments_lexer": "ipython3",
   "version": "3.9.7"
  }
 },
 "nbformat": 4,
 "nbformat_minor": 5
}
