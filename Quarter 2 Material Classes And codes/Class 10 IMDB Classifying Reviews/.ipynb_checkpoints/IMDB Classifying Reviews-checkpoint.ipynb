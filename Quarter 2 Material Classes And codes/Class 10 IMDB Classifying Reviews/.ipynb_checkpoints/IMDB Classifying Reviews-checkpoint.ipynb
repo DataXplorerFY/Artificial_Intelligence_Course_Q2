{
 "cells": [
  {
   "cell_type": "code",
   "execution_count": 1,
   "id": "38ad2469",
   "metadata": {},
   "outputs": [],
   "source": [
    "import tensorflow as tf"
   ]
  },
  {
   "cell_type": "code",
   "execution_count": 3,
   "id": "eb2641ed",
   "metadata": {},
   "outputs": [
    {
     "name": "stdout",
     "output_type": "stream",
     "text": [
      "Downloading data from https://storage.googleapis.com/tensorflow/tf-keras-datasets/imdb.npz\n",
      "17464789/17464789 [==============================] - 31s 2us/step\n"
     ]
    }
   ],
   "source": [
    "from tensorflow.keras.datasets import imdb\n",
    "(train_data, train_labels), (test_data, test_labels) = imdb.load_data(num_words=10000) \n",
    "#The argument num_words=10000 means you’ll only keep the top 10,000 most frequently occurring words in the training data\n"
   ]
  },
  {
   "cell_type": "code",
   "execution_count": 4,
   "id": "e8f6ac7f",
   "metadata": {},
   "outputs": [
    {
     "data": {
      "text/plain": [
       "25000"
      ]
     },
     "execution_count": 4,
     "metadata": {},
     "output_type": "execute_result"
    }
   ],
   "source": [
    "len(train_data)"
   ]
  },
  {
   "cell_type": "code",
   "execution_count": 5,
   "id": "1744ed89",
   "metadata": {},
   "outputs": [
    {
     "data": {
      "text/plain": [
       "25000"
      ]
     },
     "execution_count": 5,
     "metadata": {},
     "output_type": "execute_result"
    }
   ],
   "source": [
    "len(train_labels)"
   ]
  },
  {
   "cell_type": "code",
   "execution_count": 6,
   "id": "34ec4dc9",
   "metadata": {},
   "outputs": [
    {
     "data": {
      "text/plain": [
       "25000"
      ]
     },
     "execution_count": 6,
     "metadata": {},
     "output_type": "execute_result"
    }
   ],
   "source": [
    "len(test_data)"
   ]
  },
  {
   "cell_type": "code",
   "execution_count": 7,
   "id": "3e2734e9",
   "metadata": {},
   "outputs": [
    {
     "data": {
      "text/plain": [
       "25000"
      ]
     },
     "execution_count": 7,
     "metadata": {},
     "output_type": "execute_result"
    }
   ],
   "source": [
    "len(test_labels)"
   ]
  },
  {
   "cell_type": "code",
   "execution_count": 8,
   "id": "3ba0759e",
   "metadata": {},
   "outputs": [
    {
     "data": {
      "text/plain": [
       "218"
      ]
     },
     "execution_count": 8,
     "metadata": {},
     "output_type": "execute_result"
    }
   ],
   "source": [
    "len(train_data[0])"
   ]
  },
  {
   "cell_type": "code",
   "execution_count": 9,
   "id": "b55b7c6e",
   "metadata": {},
   "outputs": [
    {
     "data": {
      "text/plain": [
       "[1,\n",
       " 14,\n",
       " 22,\n",
       " 16,\n",
       " 43,\n",
       " 530,\n",
       " 973,\n",
       " 1622,\n",
       " 1385,\n",
       " 65,\n",
       " 458,\n",
       " 4468,\n",
       " 66,\n",
       " 3941,\n",
       " 4,\n",
       " 173,\n",
       " 36,\n",
       " 256,\n",
       " 5,\n",
       " 25,\n",
       " 100,\n",
       " 43,\n",
       " 838,\n",
       " 112,\n",
       " 50,\n",
       " 670,\n",
       " 2,\n",
       " 9,\n",
       " 35,\n",
       " 480,\n",
       " 284,\n",
       " 5,\n",
       " 150,\n",
       " 4,\n",
       " 172,\n",
       " 112,\n",
       " 167,\n",
       " 2,\n",
       " 336,\n",
       " 385,\n",
       " 39,\n",
       " 4,\n",
       " 172,\n",
       " 4536,\n",
       " 1111,\n",
       " 17,\n",
       " 546,\n",
       " 38,\n",
       " 13,\n",
       " 447,\n",
       " 4,\n",
       " 192,\n",
       " 50,\n",
       " 16,\n",
       " 6,\n",
       " 147,\n",
       " 2025,\n",
       " 19,\n",
       " 14,\n",
       " 22,\n",
       " 4,\n",
       " 1920,\n",
       " 4613,\n",
       " 469,\n",
       " 4,\n",
       " 22,\n",
       " 71,\n",
       " 87,\n",
       " 12,\n",
       " 16,\n",
       " 43,\n",
       " 530,\n",
       " 38,\n",
       " 76,\n",
       " 15,\n",
       " 13,\n",
       " 1247,\n",
       " 4,\n",
       " 22,\n",
       " 17,\n",
       " 515,\n",
       " 17,\n",
       " 12,\n",
       " 16,\n",
       " 626,\n",
       " 18,\n",
       " 2,\n",
       " 5,\n",
       " 62,\n",
       " 386,\n",
       " 12,\n",
       " 8,\n",
       " 316,\n",
       " 8,\n",
       " 106,\n",
       " 5,\n",
       " 4,\n",
       " 2223,\n",
       " 5244,\n",
       " 16,\n",
       " 480,\n",
       " 66,\n",
       " 3785,\n",
       " 33,\n",
       " 4,\n",
       " 130,\n",
       " 12,\n",
       " 16,\n",
       " 38,\n",
       " 619,\n",
       " 5,\n",
       " 25,\n",
       " 124,\n",
       " 51,\n",
       " 36,\n",
       " 135,\n",
       " 48,\n",
       " 25,\n",
       " 1415,\n",
       " 33,\n",
       " 6,\n",
       " 22,\n",
       " 12,\n",
       " 215,\n",
       " 28,\n",
       " 77,\n",
       " 52,\n",
       " 5,\n",
       " 14,\n",
       " 407,\n",
       " 16,\n",
       " 82,\n",
       " 2,\n",
       " 8,\n",
       " 4,\n",
       " 107,\n",
       " 117,\n",
       " 5952,\n",
       " 15,\n",
       " 256,\n",
       " 4,\n",
       " 2,\n",
       " 7,\n",
       " 3766,\n",
       " 5,\n",
       " 723,\n",
       " 36,\n",
       " 71,\n",
       " 43,\n",
       " 530,\n",
       " 476,\n",
       " 26,\n",
       " 400,\n",
       " 317,\n",
       " 46,\n",
       " 7,\n",
       " 4,\n",
       " 2,\n",
       " 1029,\n",
       " 13,\n",
       " 104,\n",
       " 88,\n",
       " 4,\n",
       " 381,\n",
       " 15,\n",
       " 297,\n",
       " 98,\n",
       " 32,\n",
       " 2071,\n",
       " 56,\n",
       " 26,\n",
       " 141,\n",
       " 6,\n",
       " 194,\n",
       " 7486,\n",
       " 18,\n",
       " 4,\n",
       " 226,\n",
       " 22,\n",
       " 21,\n",
       " 134,\n",
       " 476,\n",
       " 26,\n",
       " 480,\n",
       " 5,\n",
       " 144,\n",
       " 30,\n",
       " 5535,\n",
       " 18,\n",
       " 51,\n",
       " 36,\n",
       " 28,\n",
       " 224,\n",
       " 92,\n",
       " 25,\n",
       " 104,\n",
       " 4,\n",
       " 226,\n",
       " 65,\n",
       " 16,\n",
       " 38,\n",
       " 1334,\n",
       " 88,\n",
       " 12,\n",
       " 16,\n",
       " 283,\n",
       " 5,\n",
       " 16,\n",
       " 4472,\n",
       " 113,\n",
       " 103,\n",
       " 32,\n",
       " 15,\n",
       " 16,\n",
       " 5345,\n",
       " 19,\n",
       " 178,\n",
       " 32]"
      ]
     },
     "execution_count": 9,
     "metadata": {},
     "output_type": "execute_result"
    }
   ],
   "source": [
    "train_data[0] #after lemmitizationn and tokenization the new shape is in numbers or token that shows review"
   ]
  },
  {
   "cell_type": "code",
   "execution_count": 11,
   "id": "34427434",
   "metadata": {},
   "outputs": [
    {
     "name": "stdout",
     "output_type": "stream",
     "text": [
      "Downloading data from https://storage.googleapis.com/tensorflow/tf-keras-datasets/imdb_word_index.json\n",
      "1641221/1641221 [==============================] - 2s 1us/step\n"
     ]
    }
   ],
   "source": [
    "## This process will decode the numbers into proper review \n",
    "\n",
    "word_index = imdb.get_word_index()\n",
    "\n",
    "reverse_word_index = dict([(value, key) for (key, value) in word_index.items()])\n",
    "\n",
    "decoded_review = ' '.join([reverse_word_index.get(i - 3, '?') for i in train_data[0]])\n"
   ]
  },
  {
   "cell_type": "code",
   "execution_count": 12,
   "id": "a94f0eca",
   "metadata": {},
   "outputs": [
    {
     "data": {
      "text/plain": [
       "\"? this film was just brilliant casting location scenery story direction everyone's really suited the part they played and you could just imagine being there robert ? is an amazing actor and now the same being director ? father came from the same scottish island as myself so i loved the fact there was a real connection with this film the witty remarks throughout the film were great it was just brilliant so much that i bought the film as soon as it was released for ? and would recommend it to everyone to watch and the fly fishing was amazing really cried at the end it was so sad and you know what they say if you cry at a film it must have been good and this definitely was also ? to the two little boy's that played the ? of norman and paul they were just brilliant children are often left out of the ? list i think because the stars that play them all grown up are such a big profile for the whole film but these children are amazing and should be praised for what they have done don't you think the whole story was so lovely because it was true and was someone's life after all that was shared with us all\""
      ]
     },
     "execution_count": 12,
     "metadata": {},
     "output_type": "execute_result"
    }
   ],
   "source": [
    "decoded_review"
   ]
  },
  {
   "cell_type": "code",
   "execution_count": 13,
   "id": "cec0d2c2",
   "metadata": {},
   "outputs": [
    {
     "data": {
      "text/plain": [
       "0"
      ]
     },
     "execution_count": 13,
     "metadata": {},
     "output_type": "execute_result"
    }
   ],
   "source": [
    "train_labels[1]"
   ]
  },
  {
   "cell_type": "code",
   "execution_count": 19,
   "id": "791f23ac",
   "metadata": {},
   "outputs": [],
   "source": [
    "# Encoding the integer sequences into a binary matrix, ForExample | train_labels[1] is number we have to convert it into\n",
    "# categorical by using one-hot-encoding\n",
    "import numpy as np\n",
    "def vectorize_sequences(sequences, dimension=10000):\n",
    "    results = np.zeros((len(sequences), dimension))\n",
    "    for i, sequence in enumerate(sequences):\n",
    "        results[i, sequence] = 1.\n",
    "    return results"
   ]
  },
  {
   "cell_type": "code",
   "execution_count": 20,
   "id": "0178e04a",
   "metadata": {},
   "outputs": [],
   "source": [
    "x_train = vectorize_sequences(train_data)\n",
    "x_test = vectorize_sequences(test_data)"
   ]
  },
  {
   "cell_type": "code",
   "execution_count": 21,
   "id": "29ac232f",
   "metadata": {},
   "outputs": [
    {
     "data": {
      "text/plain": [
       "array([0., 1., 1., ..., 0., 0., 0.])"
      ]
     },
     "execution_count": 21,
     "metadata": {},
     "output_type": "execute_result"
    }
   ],
   "source": [
    "x_train[0] #Bags of words >>> the technque that we use here to convert into binary..... we not used onHotEncoding here"
   ]
  },
  {
   "cell_type": "code",
   "execution_count": 23,
   "id": "2eee0d5f",
   "metadata": {},
   "outputs": [
    {
     "data": {
      "text/plain": [
       "10000"
      ]
     },
     "execution_count": 23,
     "metadata": {},
     "output_type": "execute_result"
    }
   ],
   "source": [
    "len(x_train[0])"
   ]
  },
  {
   "cell_type": "code",
   "execution_count": 39,
   "id": "35057927",
   "metadata": {},
   "outputs": [],
   "source": [
    "#Change the type of lebels\n",
    "\n",
    "y_train = np.asarray(train_labels).astype('float32')\n",
    "y_test = np.asarray(test_labels).astype('float32')"
   ]
  },
  {
   "cell_type": "code",
   "execution_count": 40,
   "id": "8d979f4e",
   "metadata": {},
   "outputs": [],
   "source": [
    "from tensorflow.keras import models\n",
    "from tensorflow.keras import layers\n",
    "\n",
    "model = models.Sequential()\n",
    "\n",
    "\n",
    "model.add(layers.Dense(16, activation='relu', input_shape=(10000,)))\n",
    "\n",
    "model.add(layers.Dense(16, activation='relu'))\n",
    "\n",
    "model.add(layers.Dense(1, activation='sigmoid'))"
   ]
  },
  {
   "cell_type": "code",
   "execution_count": 46,
   "id": "cb7dff80",
   "metadata": {},
   "outputs": [],
   "source": [
    "#Compileiation OF model\n",
    "\n",
    "model.compile(optimizer='rmsprop',loss='binary_crossentropy',metrics=['accuracy'])"
   ]
  },
  {
   "cell_type": "code",
   "execution_count": 47,
   "id": "c6e15cf5",
   "metadata": {},
   "outputs": [],
   "source": [
    "x_val = x_train[:10000]\n",
    "partial_x_train = x_train[10000:]\n",
    "\n",
    "y_val = y_train[:10000]\n",
    "partial_y_train = y_train[10000:]"
   ]
  },
  {
   "cell_type": "code",
   "execution_count": 48,
   "id": "4894d048",
   "metadata": {},
   "outputs": [
    {
     "name": "stdout",
     "output_type": "stream",
     "text": [
      "Epoch 1/20\n",
      "59/59 [==============================] - 3s 36ms/step - loss: 0.2910 - accuracy: 0.8793 - val_loss: 0.2923 - val_accuracy: 0.8813\n",
      "Epoch 2/20\n",
      "59/59 [==============================] - 1s 13ms/step - loss: 0.2055 - accuracy: 0.9239 - val_loss: 0.2812 - val_accuracy: 0.8845\n",
      "Epoch 3/20\n",
      "59/59 [==============================] - 1s 13ms/step - loss: 0.1627 - accuracy: 0.9421 - val_loss: 0.2858 - val_accuracy: 0.8839\n",
      "Epoch 4/20\n",
      "59/59 [==============================] - 1s 13ms/step - loss: 0.1265 - accuracy: 0.9587 - val_loss: 0.3067 - val_accuracy: 0.8831\n",
      "Epoch 5/20\n",
      "59/59 [==============================] - 1s 13ms/step - loss: 0.1046 - accuracy: 0.9662 - val_loss: 0.3269 - val_accuracy: 0.8799\n",
      "Epoch 6/20\n",
      "59/59 [==============================] - 1s 13ms/step - loss: 0.0804 - accuracy: 0.9761 - val_loss: 0.3488 - val_accuracy: 0.8775\n",
      "Epoch 7/20\n",
      "59/59 [==============================] - 1s 13ms/step - loss: 0.0658 - accuracy: 0.9809 - val_loss: 0.4136 - val_accuracy: 0.8655\n",
      "Epoch 8/20\n",
      "59/59 [==============================] - 1s 12ms/step - loss: 0.0517 - accuracy: 0.9859 - val_loss: 0.4037 - val_accuracy: 0.8739\n",
      "Epoch 9/20\n",
      "59/59 [==============================] - 1s 12ms/step - loss: 0.0378 - accuracy: 0.9917 - val_loss: 0.4543 - val_accuracy: 0.8704\n",
      "Epoch 10/20\n",
      "59/59 [==============================] - 1s 12ms/step - loss: 0.0284 - accuracy: 0.9941 - val_loss: 0.5462 - val_accuracy: 0.8626\n",
      "Epoch 11/20\n",
      "59/59 [==============================] - 1s 11ms/step - loss: 0.0213 - accuracy: 0.9959 - val_loss: 0.5025 - val_accuracy: 0.8704\n",
      "Epoch 12/20\n",
      "59/59 [==============================] - 1s 12ms/step - loss: 0.0153 - accuracy: 0.9976 - val_loss: 0.5412 - val_accuracy: 0.8703\n",
      "Epoch 13/20\n",
      "59/59 [==============================] - 1s 11ms/step - loss: 0.0116 - accuracy: 0.9980 - val_loss: 0.5784 - val_accuracy: 0.8692\n",
      "Epoch 14/20\n",
      "59/59 [==============================] - 1s 11ms/step - loss: 0.0086 - accuracy: 0.9979 - val_loss: 0.6117 - val_accuracy: 0.8697\n",
      "Epoch 15/20\n",
      "59/59 [==============================] - 1s 12ms/step - loss: 0.0050 - accuracy: 0.9996 - val_loss: 0.6490 - val_accuracy: 0.8675\n",
      "Epoch 16/20\n",
      "59/59 [==============================] - 1s 11ms/step - loss: 0.0043 - accuracy: 0.9997 - val_loss: 0.6830 - val_accuracy: 0.8680\n",
      "Epoch 17/20\n",
      "59/59 [==============================] - 1s 11ms/step - loss: 0.0032 - accuracy: 0.9995 - val_loss: 0.7190 - val_accuracy: 0.8675\n",
      "Epoch 18/20\n",
      "59/59 [==============================] - 1s 11ms/step - loss: 0.0021 - accuracy: 0.9998 - val_loss: 0.7567 - val_accuracy: 0.8680\n",
      "Epoch 19/20\n",
      "59/59 [==============================] - 1s 11ms/step - loss: 0.0038 - accuracy: 0.9991 - val_loss: 0.7789 - val_accuracy: 0.8673\n",
      "Epoch 20/20\n",
      "59/59 [==============================] - 1s 11ms/step - loss: 9.4702e-04 - accuracy: 0.9999 - val_loss: 0.8189 - val_accuracy: 0.8669\n"
     ]
    }
   ],
   "source": [
    "#Training our model \n",
    "\n",
    "history = model.fit(partial_x_train,partial_y_train,epochs=20,batch_size=256,validation_data=(x_val, y_val))"
   ]
  },
  {
   "cell_type": "code",
   "execution_count": 49,
   "id": "64a7b255",
   "metadata": {},
   "outputs": [
    {
     "data": {
      "text/plain": [
       "dict_keys(['loss', 'accuracy', 'val_loss', 'val_accuracy'])"
      ]
     },
     "execution_count": 49,
     "metadata": {},
     "output_type": "execute_result"
    }
   ],
   "source": [
    "history.history.keys()"
   ]
  },
  {
   "cell_type": "code",
   "execution_count": 50,
   "id": "22ad886f",
   "metadata": {},
   "outputs": [
    {
     "data": {
      "image/png": "[encoded data removed]",
      "text/plain": [
       "<Figure size 640x480 with 1 Axes>"
      ]
     },
     "metadata": {},
     "output_type": "display_data"
    }
   ],
   "source": [
    "import matplotlib.pyplot as plt\n",
    "\n",
    "history_dict = history.history\n",
    "\n",
    "loss_values = history_dict['loss']\n",
    "\n",
    "val_loss_values = history_dict['val_loss']\n",
    "\n",
    "epochs = range(1, 21)\n",
    "\n",
    "plt.plot(epochs, loss_values, 'bo', label='Training loss')\n",
    "plt.plot(epochs, val_loss_values, 'b', label='Validation loss')\n",
    "plt.title('Training and validation loss')\n",
    "plt.xlabel('Epochs')\n",
    "plt.ylabel('Loss')\n",
    "plt.legend()\n",
    "plt.show()"
   ]
  },
  {
   "cell_type": "code",
   "execution_count": 58,
   "id": "61e52b8c",
   "metadata": {},
   "outputs": [
    {
     "data": {
      "image/png": "[encoded data removed]",
      "text/plain": [
       "<Figure size 640x480 with 1 Axes>"
      ]
     },
     "metadata": {},
     "output_type": "display_data"
    }
   ],
   "source": [
    "plt.clf()\n",
    "acc_values = history_dict['accuracy']\n",
    "val_acc_values = history_dict['val_accuracy']\n",
    "plt.plot(epochs, acc_values, 'bo', label='Training acc')\n",
    "plt.plot(epochs, val_acc_values, 'b', label='Validation acc')\n",
    "plt.title('Training and validation accuracy')\n",
    "plt.xlabel('Epochs')\n",
    "plt.ylabel('Loss')\n",
    "plt.legend()\n",
    "plt.show()"
   ]
  },
  {
   "cell_type": "code",
   "execution_count": 60,
   "id": "46a414de",
   "metadata": {},
   "outputs": [
    {
     "data": {
      "text/html": [
       "<div>\n",
       "<style scoped>\n",
       "    .dataframe tbody tr th:only-of-type {\n",
       "        vertical-align: middle;\n",
       "    }\n",
       "\n",
       "    .dataframe tbody tr th {\n",
       "        vertical-align: top;\n",
       "    }\n",
       "\n",
       "    .dataframe thead th {\n",
       "        text-align: right;\n",
       "    }\n",
       "</style>\n",
       "<table border=\"1\" class=\"dataframe\">\n",
       "  <thead>\n",
       "    <tr style=\"text-align: right;\">\n",
       "      <th></th>\n",
       "      <th>loss</th>\n",
       "      <th>accuracy</th>\n",
       "      <th>val_loss</th>\n",
       "      <th>val_accuracy</th>\n",
       "    </tr>\n",
       "  </thead>\n",
       "  <tbody>\n",
       "    <tr>\n",
       "      <th>0</th>\n",
       "      <td>0.291028</td>\n",
       "      <td>0.879267</td>\n",
       "      <td>0.292292</td>\n",
       "      <td>0.8813</td>\n",
       "    </tr>\n",
       "    <tr>\n",
       "      <th>1</th>\n",
       "      <td>0.205517</td>\n",
       "      <td>0.923933</td>\n",
       "      <td>0.281152</td>\n",
       "      <td>0.8845</td>\n",
       "    </tr>\n",
       "    <tr>\n",
       "      <th>2</th>\n",
       "      <td>0.162709</td>\n",
       "      <td>0.942067</td>\n",
       "      <td>0.285826</td>\n",
       "      <td>0.8839</td>\n",
       "    </tr>\n",
       "    <tr>\n",
       "      <th>3</th>\n",
       "      <td>0.126517</td>\n",
       "      <td>0.958733</td>\n",
       "      <td>0.306653</td>\n",
       "      <td>0.8831</td>\n",
       "    </tr>\n",
       "    <tr>\n",
       "      <th>4</th>\n",
       "      <td>0.104617</td>\n",
       "      <td>0.966200</td>\n",
       "      <td>0.326877</td>\n",
       "      <td>0.8799</td>\n",
       "    </tr>\n",
       "    <tr>\n",
       "      <th>5</th>\n",
       "      <td>0.080407</td>\n",
       "      <td>0.976067</td>\n",
       "      <td>0.348760</td>\n",
       "      <td>0.8775</td>\n",
       "    </tr>\n",
       "    <tr>\n",
       "      <th>6</th>\n",
       "      <td>0.065790</td>\n",
       "      <td>0.980933</td>\n",
       "      <td>0.413554</td>\n",
       "      <td>0.8655</td>\n",
       "    </tr>\n",
       "    <tr>\n",
       "      <th>7</th>\n",
       "      <td>0.051706</td>\n",
       "      <td>0.985933</td>\n",
       "      <td>0.403711</td>\n",
       "      <td>0.8739</td>\n",
       "    </tr>\n",
       "    <tr>\n",
       "      <th>8</th>\n",
       "      <td>0.037785</td>\n",
       "      <td>0.991667</td>\n",
       "      <td>0.454343</td>\n",
       "      <td>0.8704</td>\n",
       "    </tr>\n",
       "    <tr>\n",
       "      <th>9</th>\n",
       "      <td>0.028410</td>\n",
       "      <td>0.994133</td>\n",
       "      <td>0.546207</td>\n",
       "      <td>0.8626</td>\n",
       "    </tr>\n",
       "    <tr>\n",
       "      <th>10</th>\n",
       "      <td>0.021258</td>\n",
       "      <td>0.995933</td>\n",
       "      <td>0.502505</td>\n",
       "      <td>0.8704</td>\n",
       "    </tr>\n",
       "    <tr>\n",
       "      <th>11</th>\n",
       "      <td>0.015304</td>\n",
       "      <td>0.997600</td>\n",
       "      <td>0.541205</td>\n",
       "      <td>0.8703</td>\n",
       "    </tr>\n",
       "    <tr>\n",
       "      <th>12</th>\n",
       "      <td>0.011586</td>\n",
       "      <td>0.998000</td>\n",
       "      <td>0.578394</td>\n",
       "      <td>0.8692</td>\n",
       "    </tr>\n",
       "    <tr>\n",
       "      <th>13</th>\n",
       "      <td>0.008618</td>\n",
       "      <td>0.997933</td>\n",
       "      <td>0.611747</td>\n",
       "      <td>0.8697</td>\n",
       "    </tr>\n",
       "    <tr>\n",
       "      <th>14</th>\n",
       "      <td>0.004988</td>\n",
       "      <td>0.999600</td>\n",
       "      <td>0.649049</td>\n",
       "      <td>0.8675</td>\n",
       "    </tr>\n",
       "    <tr>\n",
       "      <th>15</th>\n",
       "      <td>0.004309</td>\n",
       "      <td>0.999667</td>\n",
       "      <td>0.683003</td>\n",
       "      <td>0.8680</td>\n",
       "    </tr>\n",
       "    <tr>\n",
       "      <th>16</th>\n",
       "      <td>0.003208</td>\n",
       "      <td>0.999467</td>\n",
       "      <td>0.719035</td>\n",
       "      <td>0.8675</td>\n",
       "    </tr>\n",
       "    <tr>\n",
       "      <th>17</th>\n",
       "      <td>0.002063</td>\n",
       "      <td>0.999800</td>\n",
       "      <td>0.756653</td>\n",
       "      <td>0.8680</td>\n",
       "    </tr>\n",
       "    <tr>\n",
       "      <th>18</th>\n",
       "      <td>0.003820</td>\n",
       "      <td>0.999133</td>\n",
       "      <td>0.778914</td>\n",
       "      <td>0.8673</td>\n",
       "    </tr>\n",
       "    <tr>\n",
       "      <th>19</th>\n",
       "      <td>0.000947</td>\n",
       "      <td>0.999933</td>\n",
       "      <td>0.818884</td>\n",
       "      <td>0.8669</td>\n",
       "    </tr>\n",
       "  </tbody>\n",
       "</table>\n",
       "</div>"
      ],
      "text/plain": [
       "        loss  accuracy  val_loss  val_accuracy\n",
       "0   0.291028  0.879267  0.292292        0.8813\n",
       "1   0.205517  0.923933  0.281152        0.8845\n",
       "2   0.162709  0.942067  0.285826        0.8839\n",
       "3   0.126517  0.958733  0.306653        0.8831\n",
       "4   0.104617  0.966200  0.326877        0.8799\n",
       "5   0.080407  0.976067  0.348760        0.8775\n",
       "6   0.065790  0.980933  0.413554        0.8655\n",
       "7   0.051706  0.985933  0.403711        0.8739\n",
       "8   0.037785  0.991667  0.454343        0.8704\n",
       "9   0.028410  0.994133  0.546207        0.8626\n",
       "10  0.021258  0.995933  0.502505        0.8704\n",
       "11  0.015304  0.997600  0.541205        0.8703\n",
       "12  0.011586  0.998000  0.578394        0.8692\n",
       "13  0.008618  0.997933  0.611747        0.8697\n",
       "14  0.004988  0.999600  0.649049        0.8675\n",
       "15  0.004309  0.999667  0.683003        0.8680\n",
       "16  0.003208  0.999467  0.719035        0.8675\n",
       "17  0.002063  0.999800  0.756653        0.8680\n",
       "18  0.003820  0.999133  0.778914        0.8673\n",
       "19  0.000947  0.999933  0.818884        0.8669"
      ]
     },
     "execution_count": 60,
     "metadata": {},
     "output_type": "execute_result"
    }
   ],
   "source": [
    "import pandas as pd\n",
    "pd.DataFrame(history.history)"
   ]
  },
  {
   "cell_type": "code",
   "execution_count": null,
   "id": "85f57818",
   "metadata": {},
   "outputs": [],
   "source": []
  }
 ],
 "metadata": {
  "kernelspec": {
   "display_name": "Python 3 (ipykernel)",
   "language": "python",
   "name": "python3"
  },
  "language_info": {
   "codemirror_mode": {
    "name": "ipython",
    "version": 3
   },
   "file_extension": ".py",
   "mimetype": "text/x-python",
   "name": "python",
   "nbconvert_exporter": "python",
   "pygments_lexer": "ipython3",
   "version": "3.11.3"
  }
 },
 "nbformat": 4,
 "nbformat_minor": 5
}
